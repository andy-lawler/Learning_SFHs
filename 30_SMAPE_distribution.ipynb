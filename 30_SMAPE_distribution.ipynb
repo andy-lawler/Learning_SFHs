{
 "cells": [
  {
   "cell_type": "code",
   "execution_count": 1,
   "metadata": {},
   "outputs": [
    {
     "name": "stderr",
     "output_type": "stream",
     "text": [
      "Using TensorFlow backend.\n"
     ]
    }
   ],
   "source": [
    "import numpy as np\n",
    "import pickle as pcl\n",
    "\n",
    "from methods.training import load_data\n",
    "\n",
    "from sklearn.tree import ExtraTreeRegressor\n",
    "from sklearn.model_selection import GridSearchCV\n",
    "from sklearn.metrics import make_scorer\n",
    "\n",
    "from keras.models import load_model\n",
    "\n",
    "%matplotlib inline\n",
    "import matplotlib\n",
    "matplotlib.use('nbAgg')\n",
    "import matplotlib.pyplot as plt\n",
    "from matplotlib import rc\n",
    "rc('font',**{'family':'sans-serif','sans-serif':['Helvetica']})\n",
    "rc('text', usetex=False)"
   ]
  },
  {
   "cell_type": "code",
   "execution_count": 2,
   "metadata": {},
   "outputs": [],
   "source": [
    "from predict import predict"
   ]
  },
  {
   "cell_type": "code",
   "execution_count": 3,
   "metadata": {},
   "outputs": [
    {
     "data": {
      "text/plain": [
       "'data/full_histories_illustris.h5'"
      ]
     },
     "execution_count": 3,
     "metadata": {},
     "output_type": "execute_result"
    }
   ],
   "source": [
    "si = predict(fname='data/full_histories_illustris.h5')\n",
    "si.training_mask()\n",
    "si.filename"
   ]
  },
  {
   "cell_type": "code",
   "execution_count": 4,
   "metadata": {},
   "outputs": [],
   "source": [
    "predictors = si.load_arr('log_8','SFH')\n",
    "\n",
    "SMAPE = {'ERT Intrinsic': None, 'ERT Dust': None, 'CNN Intrinsic': None, 'CNN Dust': None}"
   ]
  },
  {
   "cell_type": "markdown",
   "metadata": {},
   "source": [
    "## ERT / CNN"
   ]
  },
  {
   "cell_type": "markdown",
   "metadata": {},
   "source": [
    "#### ERT"
   ]
  },
  {
   "cell_type": "code",
   "execution_count": 5,
   "metadata": {},
   "outputs": [],
   "source": [
    "def custom_SMAPE(y_true, y_pred):\n",
    "    return np.mean(si._SMAPE(y_true, y_pred))"
   ]
  },
  {
   "cell_type": "code",
   "execution_count": 6,
   "metadata": {},
   "outputs": [],
   "source": [
    "features = si.prepare_features(key='Intrinsic', CNN=False)\n",
    "\n",
    "ert_intrinsic = pcl.load(open('data/ert_trained_intrinsic.p', 'rb'))\n",
    "prediction = ert_intrinsic.best_estimator_.predict(features[~si.train])\n",
    "\n",
    "SMAPE['ERT Intrinsic'] = [si._SMAPE(predictors[~si.train][i], prediction[i]) \\\n",
    "                          * 100 for i in range(len(prediction))]\n",
    "\n",
    "features = si.prepare_features(key='Dust', CNN=False)\n",
    "\n",
    "ert_intrinsic = pcl.load(open('data/ert_trained_dust.p', 'rb'))\n",
    "prediction = ert_intrinsic.best_estimator_.predict(features[~si.train])\n",
    "\n",
    "SMAPE['ERT Dust'] = [si._SMAPE(predictors[~si.train][i], prediction[i]) \\\n",
    "                     * 100 for i in range(len(prediction))]"
   ]
  },
  {
   "cell_type": "markdown",
   "metadata": {},
   "source": [
    "#### CNN"
   ]
  },
  {
   "cell_type": "code",
   "execution_count": 7,
   "metadata": {},
   "outputs": [],
   "source": [
    "# intrinsic\n",
    "features = si.prepare_features(key='Intrinsic', CNN=True)\n",
    "\n",
    "cnn_model = load_model('data/cnn_trained_illustris_intrinsic.h5', \n",
    "                       custom_objects={'_SMAPE_tf': si._SMAPE_tf})\n",
    "\n",
    "prediction = cnn_model.predict(features[~si.train])\n",
    "\n",
    "SMAPE['CNN Intrinsic'] = [si._SMAPE(predictors[~si.train][i], prediction[i]) \\\n",
    "                          * 100 for i in range(len(prediction))]\n",
    "\n",
    "# # dust\n",
    "features = si.prepare_features(key='Dust', CNN=True)\n",
    "\n",
    "cnn_model = load_model('data/cnn_trained_illustris_dust.h5', \n",
    "                       custom_objects={'_SMAPE_tf': si._SMAPE_tf})\n",
    "\n",
    "prediction = cnn_model.predict(features[~si.train])\n",
    "\n",
    "SMAPE['CNN Dust'] = [si._SMAPE(predictors[~si.train][i], prediction[i]) \\\n",
    "                     * 100 for i in range(len(prediction))]"
   ]
  },
  {
   "cell_type": "code",
   "execution_count": 8,
   "metadata": {},
   "outputs": [
    {
     "data": {
      "text/plain": [
       "<matplotlib.legend.Legend at 0x2aab9da20fd0>"
      ]
     },
     "execution_count": 8,
     "metadata": {},
     "output_type": "execute_result"
    },
    {
     "name": "stderr",
     "output_type": "stream",
     "text": [
      "findfont: Font family ['sans-serif'] not found. Falling back to DejaVu Sans.\n",
      "findfont: Font family ['sans-serif'] not found. Falling back to DejaVu Sans.\n",
      "findfont: Font family ['sans-serif'] not found. Falling back to DejaVu Sans.\n"
     ]
    },
    {
     "data": {
      "image/png": "[encoded data removed]",
      "text/plain": [
       "<Figure size 432x273.6 with 1 Axes>"
      ]
     },
     "metadata": {
      "needs_background": "light"
     },
     "output_type": "display_data"
    }
   ],
   "source": [
    "fig, ax = plt.subplots(1, 1, figsize=(6,3.8))\n",
    "\n",
    "max_count = 0.\n",
    "max_x = 50\n",
    "\n",
    "labels = ['ERT Intrinsic','CNN Intrinsic','ERT Dust','CNN Dust']\n",
    "colours = ['C2','C2','C3','C3']\n",
    "linestyle = ['dotted','solid','dotted','solid']\n",
    "fill=[False,True,False,True]\n",
    "\n",
    "for lab, c, ls in zip(labels,colours,linestyle):\n",
    "    \n",
    "    counts = ax.hist(SMAPE[lab], bins=40, range=(0, max_x), alpha=.9, histtype='step', \n",
    "                     color=c, linestyle=ls, label=lab, lw=2)\n",
    "    \n",
    "    max_count = np.max([max_count, np.max(counts[0])])\n",
    "    \n",
    "    \n",
    "ax.text(0.95, 0.93, 'Median', style='italic', horizontalalignment='right', \n",
    "        transform=ax.transAxes, alpha=0.8)\n",
    "\n",
    "ax.text(0.72, 0.93, 'Illustris', style='italic', horizontalalignment='right', \n",
    "        transform=ax.transAxes, alpha=0.8)\n",
    "\n",
    "\n",
    "for i, (key, c, ls, f) in enumerate(zip(labels,colours,linestyle,fill)):\n",
    "    ax.text(0.94, 0.86-(i*0.07), '%.1f'%np.median(SMAPE[key]), \n",
    "            horizontalalignment='right', transform=ax.transAxes)\n",
    "\n",
    "    ax.arrow(np.median(SMAPE[key]), 0, 0, 14, head_width=1, head_length=7, \n",
    "             fc=c, ec=c, ls=ls, fill=f, lw=1.2)\n",
    "\n",
    "ax.set_xlim(0, max_x)\n",
    "ax.set_ylim(0, max_count + 5)\n",
    "# ax.set_xlabel('SMAPE (%)', size=15)\n",
    "ax.set_ylabel('$N$', size=15)\n",
    "\n",
    "ax.legend(frameon=False, bbox_to_anchor=(0.51, 0.83), bbox_transform=plt.gcf().transFigure, loc=2)\n",
    "\n",
    "# fig.savefig('plots/smape_both_%s.png'%sim, dpi=200, bbox_inches='tight')"
   ]
  },
  {
   "cell_type": "markdown",
   "metadata": {},
   "source": [
    "## Added noise"
   ]
  },
  {
   "cell_type": "code",
   "execution_count": 9,
   "metadata": {},
   "outputs": [],
   "source": [
    "sn = 50\n",
    "predictors = si.load_arr('log_8','SFH')\n",
    "illustris_dust, wl = si.load_spectra('Dust')\n",
    "illustris_dust_noise = si.add_noise_flat(spec=illustris_dust, wl=wl, sn=sn)\n",
    "# si.generate_standardisation(key='Dust Noise SN50', spec=illustris_dust_noise)\n",
    "features = si.prepare_features(illustris_dust_noise, key='Dust Noise SN50', CNN=True)"
   ]
  },
  {
   "cell_type": "code",
   "execution_count": 10,
   "metadata": {},
   "outputs": [],
   "source": [
    "## Noise Small\n",
    "cnn_model = load_model('data/cnn_trained_illustris_dust_noise50.h5', \n",
    "                       custom_objects={'_SMAPE_tf': si._SMAPE_tf})\n",
    "\n",
    "prediction = cnn_model.predict(features[~si.train])\n",
    "\n",
    "SMAPE['CNN Dust Noise'] = [si._SMAPE(predictors[~si.train][i], prediction[i]) \\\n",
    "                     * 100 for i in range(len(prediction))]\n",
    "\n",
    "\n",
    "# ## Noise * 4\n",
    "cnn_model = load_model('data/cnn_trained_illustris_dust_noise50_x4.h5',\n",
    "                       custom_objects={'_SMAPE_tf': si._SMAPE_tf})\n",
    "\n",
    "prediction = cnn_model.predict(features[~si.train])\n",
    "\n",
    "SMAPE['CNN Dust Noise x4'] = [si._SMAPE(predictors[~si.train][i], prediction[i]) \\\n",
    "                     * 100 for i in range(len(prediction))]\n"
   ]
  },
  {
   "cell_type": "code",
   "execution_count": 11,
   "metadata": {},
   "outputs": [
    {
     "data": {
      "text/plain": [
       "<matplotlib.legend.Legend at 0x2aab9f73f2b0>"
      ]
     },
     "execution_count": 11,
     "metadata": {},
     "output_type": "execute_result"
    },
    {
     "data": {
      "image/png": "[encoded data removed]",
      "text/plain": [
       "<Figure size 432x273.6 with 1 Axes>"
      ]
     },
     "metadata": {
      "needs_background": "light"
     },
     "output_type": "display_data"
    }
   ],
   "source": [
    "fig, ax = plt.subplots(1, 1, figsize=(6,3.8))\n",
    "\n",
    "max_count = 0.\n",
    "\n",
    "labels = ['CNN Dust','CNN Dust Noise','CNN Dust Noise x4']\n",
    "\n",
    "pretty_labels = ['No Noise','+ Noise','Noise (resampled x 4)']\n",
    "colours = ['orange','orange','green']\n",
    "linestyle = ['dotted','solid','solid']\n",
    "fill=[False,False,False]\n",
    "\n",
    "max_x = 50\n",
    "\n",
    "for lab, plab, c, ls in zip(labels,pretty_labels,colours,linestyle):\n",
    "    \n",
    "    counts = ax.hist(SMAPE[lab], bins=30, range=(0, max_x), alpha=1, histtype='step', \n",
    "                     color=c, linestyle=ls, label=plab, lw=2)\n",
    "    \n",
    "    max_count = np.max([max_count, np.max(counts[0])])\n",
    "    \n",
    "    \n",
    "ax.text(0.95, 0.93, 'Median', style='italic', horizontalalignment='right', \n",
    "        transform=ax.transAxes, alpha=0.8)\n",
    "\n",
    "for i, (key, c, ls, f) in enumerate(zip(labels,colours,linestyle,fill)):\n",
    "    ax.text(0.94, 0.86-(i*0.075), '%.1f'%np.median(SMAPE[key]), \n",
    "            horizontalalignment='right', transform=ax.transAxes)\n",
    "\n",
    "    ax.arrow(SMAPE[key][np.argsort(SMAPE[key])[int(len(SMAPE[key])/2.)]], 0, \n",
    "             0, 20, head_width=1, head_length=10, fc=c, ec=c, ls=ls, fill=f, lw=1.2)\n",
    "\n",
    "\n",
    "ax.set_xlim(0,max_x)\n",
    "ax.set_ylim(0, max_count + 4)\n",
    "# ax.set_xlabel('SMAPE (%)', size=15)\n",
    "ax.set_ylabel('$N$', size=15)\n",
    "\n",
    "ax.legend(frameon=False, bbox_to_anchor=(0.44, 0.83), bbox_transform=plt.gcf().transFigure, loc=2)\n",
    "\n",
    "# fig.savefig('plots/smape_noise_%s.png'%sim, dpi=200, bbox_inches='tight')"
   ]
  },
  {
   "cell_type": "markdown",
   "metadata": {},
   "source": [
    "## Signal to Noise"
   ]
  },
  {
   "cell_type": "code",
   "execution_count": 12,
   "metadata": {},
   "outputs": [],
   "source": [
    "sn = 20\n",
    "predictors = si.load_arr('log_8','SFH')\n",
    "illustris_dust, wl = si.load_spectra('Dust')\n",
    "illustris_dust_noise = si.add_noise_flat(spec=illustris_dust, wl=wl, sn=sn)\n",
    "# si.generate_standardisation(key='Dust Noise SN20', spec=illustris_dust_noise)\n",
    "features = si.prepare_features(illustris_dust_noise, key='Dust Noise SN20', CNN=True)"
   ]
  },
  {
   "cell_type": "code",
   "execution_count": 14,
   "metadata": {},
   "outputs": [],
   "source": [
    "cnn_model = load_model('data/cnn_trained_illustris_dust_noise20.h5', \n",
    "                       custom_objects={'_SMAPE_tf': si._SMAPE_tf})\n",
    "\n",
    "prediction = cnn_model.predict(features[~si.train])\n",
    "\n",
    "SMAPE['CNN Dust Noise 20'] = [si._SMAPE(predictors[~si.train][i], prediction[i]) \\\n",
    "                     * 100 for i in range(len(prediction))]\n",
    "\n",
    "cnn_model = load_model('data/cnn_trained_illustris_dust_noise20_x4.h5',\n",
    "                       custom_objects={'_SMAPE_tf': si._SMAPE_tf})\n",
    "\n",
    "prediction = cnn_model.predict(features[~si.train])\n",
    "\n",
    "SMAPE['CNN Dust Noise 20 x4'] = [si._SMAPE(predictors[~si.train][i], prediction[i]) \\\n",
    "                     * 100 for i in range(len(prediction))]"
   ]
  },
  {
   "cell_type": "code",
   "execution_count": 15,
   "metadata": {},
   "outputs": [
    {
     "data": {
      "text/plain": [
       "<matplotlib.legend.Legend at 0x2aabafc5b940>"
      ]
     },
     "execution_count": 15,
     "metadata": {},
     "output_type": "execute_result"
    },
    {
     "data": {
      "image/png": "[encoded data removed]",
      "text/plain": [
       "<Figure size 432x288 with 1 Axes>"
      ]
     },
     "metadata": {
      "needs_background": "light"
     },
     "output_type": "display_data"
    }
   ],
   "source": [
    "fig, ax = plt.subplots(1, 1, figsize=(6,4))\n",
    "\n",
    "max_count = 0.\n",
    "\n",
    "# labels = ['SN50','SN20','SN20-resamp']\n",
    "labels = ['CNN Dust Noise','CNN Dust Noise 20','CNN Dust Noise 20 x4']\n",
    "\n",
    "pretty_labels = ['SN=50','SN=20','SN=20 ($\\\\times$ 4)']\n",
    "colours = ['purple','purple','orchid']\n",
    "linestyle = ['dotted','solid','solid']\n",
    "fill=[False,False,False]\n",
    "\n",
    "max_x = 50\n",
    "\n",
    "for lab, plab, c, ls in zip(labels,pretty_labels,colours,linestyle):\n",
    "    \n",
    "    counts = ax.hist(SMAPE[lab], bins=30, range=(0, max_x), alpha=1, histtype='step', \n",
    "                     color=c, linestyle=ls, label=plab, lw=2)\n",
    "    \n",
    "    max_count = np.max([max_count, np.max(counts[0])])\n",
    "    \n",
    "    \n",
    "ax.text(0.95, 0.93, 'Median', style='italic', horizontalalignment='right', \n",
    "        transform=ax.transAxes, alpha=0.8)\n",
    "\n",
    "# ax.text(0.72, 0.93, 'Illustris', style='italic', horizontalalignment='right', \n",
    "#         transform=ax.transAxes, alpha=0.8)\n",
    "\n",
    "for i, (key, c, ls, f) in enumerate(zip(labels,colours,linestyle,fill)):\n",
    "    ax.text(0.94, 0.86-(i*0.07), '%.1f'%np.median(SMAPE[key]), \n",
    "            horizontalalignment='right', transform=ax.transAxes)\n",
    "\n",
    "    ax.arrow(SMAPE[key][np.argsort(SMAPE[key])[int(len(SMAPE[key])/2.)]], 0, \n",
    "             0, 15, head_width=1.2, head_length=9, fc=c, ec=c, ls=ls, fill=f, lw=1.2)\n",
    "\n",
    "\n",
    "ax.set_xlim(0,max_x)\n",
    "ax.set_ylim(0, max_count + 4)\n",
    "ax.set_xlabel('SMAPE (%)', size=15)\n",
    "ax.set_ylabel('$N$', size=15)\n",
    "\n",
    "ax.legend(frameon=False, bbox_to_anchor=(0.48, 0.83), bbox_transform=plt.gcf().transFigure, loc=2)\n",
    "\n",
    "# fig.savefig('plots/smape_noise_SN_%s.png'%sim, dpi=200, bbox_inches='tight')"
   ]
  },
  {
   "cell_type": "code",
   "execution_count": null,
   "metadata": {},
   "outputs": [],
   "source": []
  }
 ],
 "metadata": {
  "kernelspec": {
   "display_name": "Python 3",
   "language": "python",
   "name": "python3"
  },
  "language_info": {
   "codemirror_mode": {
    "name": "ipython",
    "version": 3
   },
   "file_extension": ".py",
   "mimetype": "text/x-python",
   "name": "python",
   "nbconvert_exporter": "python",
   "pygments_lexer": "ipython3",
   "version": "3.6.4"
  }
 },
 "nbformat": 4,
 "nbformat_minor": 2
}
