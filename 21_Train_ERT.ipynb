{
 "cells": [
  {
   "cell_type": "markdown",
   "metadata": {},
   "source": [
    "## Extremely Randomised Trees\n",
    "\n",
    "Train ERT (intrinsic and dust attenuated)"
   ]
  },
  {
   "cell_type": "code",
   "execution_count": 1,
   "metadata": {},
   "outputs": [
    {
     "name": "stderr",
     "output_type": "stream",
     "text": [
      "Using TensorFlow backend.\n"
     ]
    }
   ],
   "source": [
    "import numpy as np\n",
    "import pickle as pcl\n",
    "\n",
    "from methods.training import load_data\n",
    "\n",
    "from sklearn.tree import ExtraTreeRegressor\n",
    "from sklearn.model_selection import GridSearchCV\n",
    "from sklearn.metrics import make_scorer\n",
    "\n",
    "%matplotlib inline\n",
    "import matplotlib.pyplot as plt\n",
    "from matplotlib import rc\n",
    "rc('font',**{'family':'sans-serif','sans-serif':['Helvetica']})\n",
    "rc('text', usetex=False)"
   ]
  },
  {
   "cell_type": "code",
   "execution_count": 2,
   "metadata": {},
   "outputs": [
    {
     "data": {
      "text/plain": [
       "'data/full_histories_illustris.h5'"
      ]
     },
     "execution_count": 2,
     "metadata": {},
     "output_type": "execute_result"
    }
   ],
   "source": [
    "from predict import predict\n",
    "\n",
    "si = predict(fname='data/full_histories_illustris.h5')\n",
    "si.training_mask()\n",
    "si.filename"
   ]
  },
  {
   "cell_type": "code",
   "execution_count": 20,
   "metadata": {},
   "outputs": [],
   "source": [
    "key = 'Dust'\n",
    "si.generate_standardisation(key)\n",
    "features = si.prepare_features(key=key, CNN=True)\n",
    "predictors = si.load_arr('log_8','SFH')"
   ]
  },
  {
   "cell_type": "code",
   "execution_count": 21,
   "metadata": {},
   "outputs": [
    {
     "data": {
      "text/plain": [
       "{'criterion': 'mse',\n",
       " 'max_depth': None,\n",
       " 'max_features': 'auto',\n",
       " 'max_leaf_nodes': None,\n",
       " 'min_impurity_decrease': 0.0,\n",
       " 'min_impurity_split': None,\n",
       " 'min_samples_leaf': 1,\n",
       " 'min_samples_split': 2,\n",
       " 'min_weight_fraction_leaf': 0.0,\n",
       " 'random_state': None,\n",
       " 'splitter': 'random'}"
      ]
     },
     "execution_count": 21,
     "metadata": {},
     "output_type": "execute_result"
    }
   ],
   "source": [
    "ERT = ExtraTreeRegressor(criterion='mse')\n",
    "ERT.get_params()"
   ]
  },
  {
   "cell_type": "code",
   "execution_count": 23,
   "metadata": {},
   "outputs": [],
   "source": [
    "parameters = {\n",
    "                'min_samples_split': [4,5,6,7,8,10],\n",
    "                'min_samples_leaf': [7,8,9,10,14],\n",
    "                'max_leaf_nodes': [130, 150, 160,180, 200, 220, 240]\n",
    "             }\n",
    "\n",
    "# parameters = clf.best_params_"
   ]
  },
  {
   "cell_type": "markdown",
   "metadata": {},
   "source": [
    "$SMAPE = 2 \\times \\frac{\\Sigma \\, |Y_{true} \\,-\\, Y_{pred}|}{\\Sigma \\, (Y_{true} \\,+\\, Y_{pred})}$"
   ]
  },
  {
   "cell_type": "code",
   "execution_count": 24,
   "metadata": {},
   "outputs": [],
   "source": [
    "def custom_SMAPE(y_true, y_pred):\n",
    "    return np.mean(si._SMAPE(y_true, y_pred))"
   ]
  },
  {
   "cell_type": "code",
   "execution_count": 25,
   "metadata": {},
   "outputs": [
    {
     "name": "stderr",
     "output_type": "stream",
     "text": [
      "/research/astro/highz/Students/Chris/Learning_SFHs/venv/lib/python3.6/site-packages/sklearn/model_selection/_split.py:1978: FutureWarning: The default value of cv will change from 3 to 5 in version 0.22. Specify it explicitly to silence this warning.\n",
      "  warnings.warn(CV_WARNING, FutureWarning)\n"
     ]
    },
    {
     "data": {
      "text/plain": [
       "{'max_leaf_nodes': 240, 'min_samples_leaf': 10, 'min_samples_split': 6}"
      ]
     },
     "execution_count": 25,
     "metadata": {},
     "output_type": "execute_result"
    }
   ],
   "source": [
    "scorer = make_scorer(custom_SMAPE, greater_is_better=False)\n",
    "\n",
    "features = np.squeeze(features)\n",
    "\n",
    "clf = GridSearchCV(ERT, param_grid=parameters, scoring=scorer)\n",
    "clf.fit(X = features[si.train], y=predictors[si.train])\n",
    "clf.best_params_"
   ]
  },
  {
   "cell_type": "code",
   "execution_count": 26,
   "metadata": {},
   "outputs": [
    {
     "name": "stdout",
     "output_type": "stream",
     "text": [
      "23.050 percent\n"
     ]
    }
   ],
   "source": [
    "ERT = clf.best_estimator_\n",
    "prediction = ERT.predict(features[~si.train])\n",
    "print(\"%0.3f percent\"%(100 * scorer(ERT, features[~si.train], predictors[~si.train]) * -1))\n",
    "# print(\"%0.3f percent\"%(scorer(ERT, features[~sp.train], predictors[~sp.train])))"
   ]
  },
  {
   "cell_type": "code",
   "execution_count": 27,
   "metadata": {},
   "outputs": [],
   "source": [
    "pcl.dump(clf, open('data/ert_trained_dust.p', 'wb'))"
   ]
  },
  {
   "cell_type": "code",
   "execution_count": null,
   "metadata": {
    "collapsed": true
   },
   "outputs": [],
   "source": []
  }
 ],
 "metadata": {
  "kernelspec": {
   "display_name": "Python 3",
   "language": "python",
   "name": "python3"
  },
  "language_info": {
   "codemirror_mode": {
    "name": "ipython",
    "version": 3
   },
   "file_extension": ".py",
   "mimetype": "text/x-python",
   "name": "python",
   "nbconvert_exporter": "python",
   "pygments_lexer": "ipython3",
   "version": "3.6.4"
  }
 },
 "nbformat": 4,
 "nbformat_minor": 2
}
