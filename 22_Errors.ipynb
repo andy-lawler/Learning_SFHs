{
 "cells": [
  {
   "cell_type": "code",
   "execution_count": 2,
   "metadata": {
    "scrolled": true
   },
   "outputs": [
    {
     "name": "stderr",
     "output_type": "stream",
     "text": [
      "/home/cl19abx/Learning_SFHs/venv/lib64/python3.6/site-packages/tensorflow/python/framework/dtypes.py:516: FutureWarning: Passing (type, 1) or '1type' as a synonym of type is deprecated; in a future version of numpy, it will be understood as (type, (1,)) / '(1,)type'.\n",
      "  _np_qint8 = np.dtype([(\"qint8\", np.int8, 1)])\n",
      "/home/cl19abx/Learning_SFHs/venv/lib64/python3.6/site-packages/tensorflow/python/framework/dtypes.py:517: FutureWarning: Passing (type, 1) or '1type' as a synonym of type is deprecated; in a future version of numpy, it will be understood as (type, (1,)) / '(1,)type'.\n",
      "  _np_quint8 = np.dtype([(\"quint8\", np.uint8, 1)])\n",
      "/home/cl19abx/Learning_SFHs/venv/lib64/python3.6/site-packages/tensorflow/python/framework/dtypes.py:518: FutureWarning: Passing (type, 1) or '1type' as a synonym of type is deprecated; in a future version of numpy, it will be understood as (type, (1,)) / '(1,)type'.\n",
      "  _np_qint16 = np.dtype([(\"qint16\", np.int16, 1)])\n",
      "/home/cl19abx/Learning_SFHs/venv/lib64/python3.6/site-packages/tensorflow/python/framework/dtypes.py:519: FutureWarning: Passing (type, 1) or '1type' as a synonym of type is deprecated; in a future version of numpy, it will be understood as (type, (1,)) / '(1,)type'.\n",
      "  _np_quint16 = np.dtype([(\"quint16\", np.uint16, 1)])\n",
      "/home/cl19abx/Learning_SFHs/venv/lib64/python3.6/site-packages/tensorflow/python/framework/dtypes.py:520: FutureWarning: Passing (type, 1) or '1type' as a synonym of type is deprecated; in a future version of numpy, it will be understood as (type, (1,)) / '(1,)type'.\n",
      "  _np_qint32 = np.dtype([(\"qint32\", np.int32, 1)])\n",
      "/home/cl19abx/Learning_SFHs/venv/lib64/python3.6/site-packages/tensorflow/python/framework/dtypes.py:525: FutureWarning: Passing (type, 1) or '1type' as a synonym of type is deprecated; in a future version of numpy, it will be understood as (type, (1,)) / '(1,)type'.\n",
      "  np_resource = np.dtype([(\"resource\", np.ubyte, 1)])\n",
      "/home/cl19abx/Learning_SFHs/venv/lib64/python3.6/site-packages/tensorboard/compat/tensorflow_stub/dtypes.py:541: FutureWarning: Passing (type, 1) or '1type' as a synonym of type is deprecated; in a future version of numpy, it will be understood as (type, (1,)) / '(1,)type'.\n",
      "  _np_qint8 = np.dtype([(\"qint8\", np.int8, 1)])\n",
      "/home/cl19abx/Learning_SFHs/venv/lib64/python3.6/site-packages/tensorboard/compat/tensorflow_stub/dtypes.py:542: FutureWarning: Passing (type, 1) or '1type' as a synonym of type is deprecated; in a future version of numpy, it will be understood as (type, (1,)) / '(1,)type'.\n",
      "  _np_quint8 = np.dtype([(\"quint8\", np.uint8, 1)])\n",
      "/home/cl19abx/Learning_SFHs/venv/lib64/python3.6/site-packages/tensorboard/compat/tensorflow_stub/dtypes.py:543: FutureWarning: Passing (type, 1) or '1type' as a synonym of type is deprecated; in a future version of numpy, it will be understood as (type, (1,)) / '(1,)type'.\n",
      "  _np_qint16 = np.dtype([(\"qint16\", np.int16, 1)])\n",
      "/home/cl19abx/Learning_SFHs/venv/lib64/python3.6/site-packages/tensorboard/compat/tensorflow_stub/dtypes.py:544: FutureWarning: Passing (type, 1) or '1type' as a synonym of type is deprecated; in a future version of numpy, it will be understood as (type, (1,)) / '(1,)type'.\n",
      "  _np_quint16 = np.dtype([(\"quint16\", np.uint16, 1)])\n",
      "/home/cl19abx/Learning_SFHs/venv/lib64/python3.6/site-packages/tensorboard/compat/tensorflow_stub/dtypes.py:545: FutureWarning: Passing (type, 1) or '1type' as a synonym of type is deprecated; in a future version of numpy, it will be understood as (type, (1,)) / '(1,)type'.\n",
      "  _np_qint32 = np.dtype([(\"qint32\", np.int32, 1)])\n",
      "/home/cl19abx/Learning_SFHs/venv/lib64/python3.6/site-packages/tensorboard/compat/tensorflow_stub/dtypes.py:550: FutureWarning: Passing (type, 1) or '1type' as a synonym of type is deprecated; in a future version of numpy, it will be understood as (type, (1,)) / '(1,)type'.\n",
      "  np_resource = np.dtype([(\"resource\", np.ubyte, 1)])\n"
     ]
    }
   ],
   "source": [
    "import numpy as np\n",
    "from scipy.stats import norm\n",
    "import pickle as pcl\n",
    "\n",
    "from tensorflow.keras.models import load_model\n",
    "\n",
    "%matplotlib inline\n",
    "import matplotlib\n",
    "# matplotlib.use('nbAgg')\n",
    "import matplotlib.pyplot as plt\n",
    "from matplotlib import rc\n",
    "from matplotlib import gridspec\n",
    "rc('font',**{'family':'sans-serif','sans-serif':['Helvetica']})\n",
    "rc('text', usetex=False)\n",
    "\n",
    "from predict import predict"
   ]
  },
  {
   "cell_type": "code",
   "execution_count": 3,
   "metadata": {},
   "outputs": [
    {
     "data": {
      "text/plain": [
       "'data/full_histories_illustris.h5'"
      ]
     },
     "execution_count": 3,
     "metadata": {},
     "output_type": "execute_result"
    }
   ],
   "source": [
    "sim = 'illustris'\n",
    "\n",
    "si = predict(fname='data/full_histories_%s.h5'%sim)\n",
    "si.training_mask()\n",
    "si.filename"
   ]
  },
  {
   "cell_type": "code",
   "execution_count": 4,
   "metadata": {},
   "outputs": [],
   "source": [
    "binLimits = si.load_arr('binLimits','bins/log_8')\n",
    "bins = si.load_arr('bins','bins/log_8')"
   ]
  },
  {
   "cell_type": "code",
   "execution_count": 5,
   "metadata": {},
   "outputs": [],
   "source": [
    "prediction = {}\n",
    "predictors = si.load_arr('log_8','SFH')"
   ]
  },
  {
   "cell_type": "code",
   "execution_count": 6,
   "metadata": {},
   "outputs": [],
   "source": [
    "spec_intr, wl = si.load_spectra('Intrinsic')"
   ]
  },
  {
   "cell_type": "code",
   "execution_count": 7,
   "metadata": {},
   "outputs": [],
   "source": [
    "spec_intr_noise = si.add_noise_flat(spec=spec_intr, wl=wl, sn=50)"
   ]
  },
  {
   "cell_type": "code",
   "execution_count": null,
   "metadata": {},
   "outputs": [],
   "source": [
    "si.generate_standardisation(key='Intrinsic Noise SN50', spec=spec_intr_noise)"
   ]
  },
  {
   "cell_type": "code",
   "execution_count": null,
   "metadata": {},
   "outputs": [],
   "source": [
    "features = si.prepare_features(spec_intr_noise, key='Intrinsic Noise SN50', CNN=True)"
   ]
  },
  {
   "cell_type": "code",
   "execution_count": null,
   "metadata": {},
   "outputs": [],
   "source": [
    "ls data"
   ]
  },
  {
   "cell_type": "code",
   "execution_count": null,
   "metadata": {},
   "outputs": [],
   "source": []
  },
  {
   "cell_type": "code",
   "execution_count": null,
   "metadata": {},
   "outputs": [],
   "source": [
    "# cnn_model = load_model('data/cnn_trained_%s_intrinsic_noise50_x4.h5'%sim, \n",
    "#                        custom_objects={'_SMAPE_tf': si._SMAPE_tf})\n",
    "\n",
    "cnn_model = load_model('data/cnn_trained_%s_intrinsic.h5'%sim, \n",
    "                       custom_objects={'_SMAPE_tf': si._SMAPE_tf})"
   ]
  },
  {
   "cell_type": "code",
   "execution_count": null,
   "metadata": {},
   "outputs": [],
   "source": [
    "prediction['intrinsic'] = cnn_model.predict(features[~si.train])"
   ]
  },
  {
   "cell_type": "code",
   "execution_count": 1,
   "metadata": {},
   "outputs": [
    {
     "ename": "NameError",
     "evalue": "name 'si' is not defined",
     "output_type": "error",
     "traceback": [
      "\u001b[0;31m---------------------------------------------------------------------------\u001b[0m",
      "\u001b[0;31mNameError\u001b[0m                                 Traceback (most recent call last)",
      "\u001b[0;32m<ipython-input-1-3903f5082fce>\u001b[0m in \u001b[0;36m<module>\u001b[0;34m\u001b[0m\n\u001b[0;32m----> 1\u001b[0;31m \u001b[0mspec_intr\u001b[0m\u001b[0;34m,\u001b[0m \u001b[0mwl\u001b[0m \u001b[0;34m=\u001b[0m \u001b[0msi\u001b[0m\u001b[0;34m.\u001b[0m\u001b[0mload_spectra\u001b[0m\u001b[0;34m(\u001b[0m\u001b[0;34m'Intrinsic'\u001b[0m\u001b[0;34m)\u001b[0m\u001b[0;34m\u001b[0m\u001b[0;34m\u001b[0m\u001b[0m\n\u001b[0m\u001b[1;32m      2\u001b[0m \u001b[0mspec_intr_noise\u001b[0m \u001b[0;34m=\u001b[0m \u001b[0msi\u001b[0m\u001b[0;34m.\u001b[0m\u001b[0madd_noise_flat\u001b[0m\u001b[0;34m(\u001b[0m\u001b[0mspec\u001b[0m\u001b[0;34m=\u001b[0m\u001b[0mspec_intr\u001b[0m\u001b[0;34m,\u001b[0m \u001b[0mwl\u001b[0m\u001b[0;34m=\u001b[0m\u001b[0mwl\u001b[0m\u001b[0;34m,\u001b[0m \u001b[0msn\u001b[0m\u001b[0;34m=\u001b[0m\u001b[0;36m50\u001b[0m\u001b[0;34m)\u001b[0m\u001b[0;34m\u001b[0m\u001b[0;34m\u001b[0m\u001b[0m\n\u001b[1;32m      3\u001b[0m \u001b[0msi\u001b[0m\u001b[0;34m.\u001b[0m\u001b[0mgenerate_standardisation\u001b[0m\u001b[0;34m(\u001b[0m\u001b[0mkey\u001b[0m\u001b[0;34m=\u001b[0m\u001b[0;34m'Intrinsic Noise SN50'\u001b[0m\u001b[0;34m,\u001b[0m \u001b[0mspec\u001b[0m\u001b[0;34m=\u001b[0m\u001b[0mspec_intr_noise\u001b[0m\u001b[0;34m)\u001b[0m\u001b[0;34m\u001b[0m\u001b[0;34m\u001b[0m\u001b[0m\n\u001b[1;32m      4\u001b[0m \u001b[0mfeatures\u001b[0m \u001b[0;34m=\u001b[0m \u001b[0msi\u001b[0m\u001b[0;34m.\u001b[0m\u001b[0mprepare_features\u001b[0m\u001b[0;34m(\u001b[0m\u001b[0mspec_intr_noise\u001b[0m\u001b[0;34m,\u001b[0m \u001b[0mkey\u001b[0m\u001b[0;34m=\u001b[0m\u001b[0;34m'Intrinsic Noise SN50'\u001b[0m\u001b[0;34m,\u001b[0m \u001b[0mCNN\u001b[0m\u001b[0;34m=\u001b[0m\u001b[0;32mTrue\u001b[0m\u001b[0;34m)\u001b[0m\u001b[0;34m\u001b[0m\u001b[0;34m\u001b[0m\u001b[0m\n\u001b[1;32m      5\u001b[0m cnn_model = load_model('data/cnn_trained_%s_intrinsic_noise50_x4.h5'%sim, \n",
      "\u001b[0;31mNameError\u001b[0m: name 'si' is not defined"
     ]
    }
   ],
   "source": [
    "\n",
    "\n",
    "\n",
    "\n",
    "\n"
   ]
  },
  {
   "cell_type": "code",
   "execution_count": null,
   "metadata": {},
   "outputs": [],
   "source": [
    "spec_dust, wl = si.load_spectra('Dust')\n",
    "spec_dust_noise = si.add_noise_flat(spec=spec_dust, wl=wl, sn=50)\n",
    "si.generate_standardisation(key='Dust Noise SN50', spec=spec_dust_noise)\n",
    "features = si.prepare_features(spec_dust_noise, key='Dust Noise SN50', CNN=True)\n",
    "\n",
    "cnn_model = load_model('data/cnn_trained_%s_dust_noise50_x4.h5'%sim, \n",
    "                       custom_objects={'_SMAPE_tf': si._SMAPE_tf})\n",
    "\n",
    "prediction['dust'] = cnn_model.predict(features[~si.train])"
   ]
  },
  {
   "cell_type": "markdown",
   "metadata": {},
   "source": [
    "## Experimental Errors\n",
    "Propogate spectral errors through model"
   ]
  },
  {
   "cell_type": "code",
   "execution_count": 10,
   "metadata": {},
   "outputs": [
    {
     "name": "stderr",
     "output_type": "stream",
     "text": [
      "/home/cl19abx/Learning_SFHs/predict.py:395: RuntimeWarning: invalid value encountered in true_divide\n",
      "  corr = cov / sigma[:,:,None] / sigma[:,None,:]\n"
     ]
    }
   ],
   "source": [
    "sigma = {}\n",
    "corr = {}\n",
    "\n",
    "N = 250\n",
    "\n",
    "## Intrinsic\n",
    "cnn_model = load_model('data/cnn_trained_%s_intrinsic_noise50_x4.h5'%sim, \n",
    "                       custom_objects={'_SMAPE_tf': si._SMAPE_tf})\n",
    "\n",
    "pred = si._propogate_uncertainties(cnn_model,key='Intrinsic',N=N,sn=50,\n",
    "                                   scaler=si.scalers['Intrinsic Noise SN50'])\n",
    "\n",
    "sigma['intrinsic'], corr['intrinsic'] = si.calculate_uncertainties(pred)\n",
    "\n",
    "## Dust\n",
    "cnn_model = load_model('data/cnn_trained_%s_dust_noise50_x4.h5'%sim, \n",
    "                       custom_objects={'_SMAPE_tf': si._SMAPE_tf})\n",
    "\n",
    "pred = si._propogate_uncertainties(cnn_model,key='Dust',N=N,sn=50,\n",
    "                                   scaler=si.scalers['Dust Noise SN50'])\n",
    "\n",
    "sigma['dust'], corr['dust'] = si.calculate_uncertainties(pred)"
   ]
  },
  {
   "cell_type": "markdown",
   "metadata": {},
   "source": [
    "## Correlation Matrix"
   ]
  },
  {
   "cell_type": "code",
   "execution_count": 11,
   "metadata": {},
   "outputs": [],
   "source": [
    "## colormap\n",
    "from matplotlib.colors import LinearSegmentedColormap\n",
    "\n",
    "def display_cmap(cmap):\n",
    "    plt.imshow(np.linspace(0, 100, 256)[None, :],  aspect=25,    interpolation='nearest', cmap=cmap) \n",
    "    plt.axis('off')\n",
    "\n",
    "basic_cols=['#75b765', 'black', '#ffd700']\n",
    "my_cmap=LinearSegmentedColormap.from_list('mycmap', basic_cols)\n",
    "\n",
    "# set Nan values to red\n",
    "my_cmap.set_bad((1, 1, 1, 1))"
   ]
  },
  {
   "cell_type": "code",
   "execution_count": 18,
   "metadata": {},
   "outputs": [
    {
     "data": {
      "text/plain": [
       "<matplotlib.colorbar.Colorbar at 0x7f578c06aeb8>"
      ]
     },
     "execution_count": 18,
     "metadata": {},
     "output_type": "execute_result"
    },
    {
     "name": "stderr",
     "output_type": "stream",
     "text": [
      "findfont: Font family ['sans-serif'] not found. Falling back to DejaVu Sans.\n",
      "findfont: Font family ['sans-serif'] not found. Falling back to DejaVu Sans.\n"
     ]
    },
    {
     "data": {
      "image/png": "[encoded data removed]",
      "text/plain": [
       "<Figure size 432x648 with 7 Axes>"
      ]
     },
     "metadata": {
      "needs_background": "light"
     },
     "output_type": "display_data"
    }
   ],
   "source": [
    "fig, ((ax1,ax2), (ax3,ax4), (ax5,ax6)) = plt.subplots(3, 2, figsize=(6,9))\n",
    "\n",
    "fig.subplots_adjust(hspace=.05, wspace=.05)\n",
    "\n",
    "for k,ax in zip([499, 811, 816, 1166, 735, 257], [ax1,ax2,ax3,ax4,ax5,ax6]):\n",
    "    ax.text(0.8, 0.9, k, transform=ax.transAxes, color='white')\n",
    "    im = ax.imshow(corr['dust'][k], cmap=my_cmap, vmin=-1, vmax=1)\n",
    "    \n",
    "\n",
    "for ax in [ax1,ax3,ax5]: \n",
    "    ax.set_ylabel('$\\mathrm{log_{10}(t_{\\,L} \\,/\\, Gyr)}$', size=13)\n",
    "    ax.set_yticks(np.arange(len(bins))[1::2])\n",
    "    ax.set_yticklabels([\"%.1f\"%b for b in bins[1::2]])#, rotation=90);\n",
    "    \n",
    "    \n",
    "for ax in [ax5,ax6]: \n",
    "    ax.set_xlabel('$\\mathrm{log_{10}(t_{\\,L} \\,/\\, Gyr)}$', size=13)\n",
    "    ax.set_xticks(np.arange(len(bins))[1::2])\n",
    "    ax.set_xticklabels([\"%.1f\"%b for b in bins[1::2]])#, rotation=90);    \n",
    "    \n",
    "    \n",
    "for ax in [ax2,ax4,ax6]:\n",
    "    ax.set_yticklabels([])\n",
    "    \n",
    "    \n",
    "for ax in [ax1,ax2,ax3,ax4]:\n",
    "    ax.set_xticklabels([])\n",
    "    \n",
    "    \n",
    "for ax in [ax1,ax2,ax3,ax4,ax5,ax6]:\n",
    "    ax.set_xlim(-0.5,7.5)\n",
    "    ax.set_ylim(7.5,-0.5)\n",
    "    \n",
    "cax = fig.add_axes([0.2, .03, 0.6, 0.02])\n",
    "fig.colorbar(im, cax=cax, orientation='horizontal', label='Corr')\n",
    "    \n",
    "# fig.savefig('plots/correlation_matrix_example.png', dpi=200, bbox_inches='tight')"
   ]
  },
  {
   "cell_type": "markdown",
   "metadata": {},
   "source": [
    "## Experimental Errors"
   ]
  },
  {
   "cell_type": "code",
   "execution_count": 19,
   "metadata": {},
   "outputs": [],
   "source": [
    "experiment_err_fits = {key: [None] * predictors.shape[1] for key in ['dust','intrinsic']}"
   ]
  },
  {
   "cell_type": "markdown",
   "metadata": {},
   "source": [
    "Fit"
   ]
  },
  {
   "cell_type": "code",
   "execution_count": 20,
   "metadata": {},
   "outputs": [
    {
     "ename": "IndexError",
     "evalue": "only integers, slices (`:`), ellipsis (`...`), numpy.newaxis (`None`) and integer or boolean arrays are valid indices",
     "output_type": "error",
     "traceback": [
      "\u001b[0;31m---------------------------------------------------------------------------\u001b[0m",
      "\u001b[0;31mIndexError\u001b[0m                                Traceback (most recent call last)",
      "\u001b[0;32m<ipython-input-20-a5f4b841f3eb>\u001b[0m in \u001b[0;36m<module>\u001b[0;34m\u001b[0m\n\u001b[1;32m     18\u001b[0m \u001b[0;32mfor\u001b[0m \u001b[0mi\u001b[0m\u001b[0;34m,\u001b[0m\u001b[0max\u001b[0m \u001b[0;32min\u001b[0m \u001b[0menumerate\u001b[0m\u001b[0;34m(\u001b[0m\u001b[0maxes\u001b[0m\u001b[0;34m)\u001b[0m\u001b[0;34m:\u001b[0m\u001b[0;34m\u001b[0m\u001b[0;34m\u001b[0m\u001b[0m\n\u001b[1;32m     19\u001b[0m \u001b[0;34m\u001b[0m\u001b[0m\n\u001b[0;32m---> 20\u001b[0;31m     ax.scatter(np.log10(predictors[~si.train][:,i]+1), sigma['dust'][:,i], \n\u001b[0m\u001b[1;32m     21\u001b[0m                s=5, color='C3', alpha=0.6)\n\u001b[1;32m     22\u001b[0m \u001b[0;34m\u001b[0m\u001b[0m\n",
      "\u001b[0;31mIndexError\u001b[0m: only integers, slices (`:`), ellipsis (`...`), numpy.newaxis (`None`) and integer or boolean arrays are valid indices"
     ]
    },
    {
     "data": {
      "image/png": "[encoded data removed]",
      "text/plain": [
       "<Figure size 360x864 with 8 Axes>"
      ]
     },
     "metadata": {
      "needs_background": "light"
     },
     "output_type": "display_data"
    }
   ],
   "source": [
    "fig = plt.figure(figsize=(5,12))\n",
    "\n",
    "gs = gridspec.GridSpec(8,7, wspace=0., hspace=0.)\n",
    "\n",
    "ax1 = plt.subplot(gs[0, :3])\n",
    "ax2 = plt.subplot(gs[1, :3])\n",
    "ax3 = plt.subplot(gs[2, :3])\n",
    "ax4 = plt.subplot(gs[3, :3])\n",
    "ax5 = plt.subplot(gs[0, 3:6])\n",
    "ax6 = plt.subplot(gs[1, 3:6])\n",
    "ax7 = plt.subplot(gs[2, 3:6])\n",
    "ax8 = plt.subplot(gs[3, 3:6])\n",
    "\n",
    "axes = [ax1,ax2,ax3,ax4,ax5,ax6,ax7,ax8]\n",
    "\n",
    "b=np.linspace(-5,5,100)\n",
    "\n",
    "for i,ax in enumerate(axes):\n",
    "    \n",
    "    ax.scatter(np.log10(predictors[~si.train][:,i]+1), sigma['dust'][:,i], \n",
    "               s=5, color='C3', alpha=0.6)\n",
    "    \n",
    "    ax.scatter(np.log10(predictors[~si.train][:,i]+1), sigma['intrinsic'][:,i], \n",
    "               s=3, color='C2', alpha=0.6)\n",
    "    \n",
    "\n",
    "    x = np.linspace(0,3,100)\n",
    "    m2,m1,c = np.polyfit(x=np.log10(predictors[~si.train][:,i]+1), \n",
    "                      y=sigma['dust'][:,i], deg=2)\n",
    "    ax.plot(x, m2*x**2 + m1*x + c, color='C3', linestyle='dashed')\n",
    "    experiment_err_fits['dust'][i] = [m2,m1,c]\n",
    "\n",
    "    m2,m1,c = np.polyfit(x=np.log10(predictors[~si.train][:,i]+1), \n",
    "                      y=sigma['intrinsic'][:,i], deg=2)\n",
    "    ax.plot(x, m2*x**2 + m1*x + c, color='C2', linestyle='dashed')\n",
    "    experiment_err_fits['intrinsic'][i] = [m2,m1,c]\n",
    "        \n",
    "    \n",
    "    ax.set_xlim(-.1, 2.4)\n",
    "    ax.set_ylim(0,2.8)\n",
    "    ax.grid(alpha=0.5)\n",
    "        \n",
    "    if i not in [3,7]:\n",
    "        ax.set_xticklabels([])  \n",
    "\n",
    "    ax.text(0.09, 2.1, '$%.2f < \\mathrm{log(t_{L})} < %.2f$'%\\\n",
    "            (np.log10(binLimits[i] * 1e9), np.log10(binLimits[i+1] * 1e9)), alpha=0.6)\n",
    "    \n",
    "\n",
    "for ax in [ax5,ax6,ax7,ax8]:\n",
    "    ax.yaxis.tick_right()\n",
    "    \n",
    "for ax in [ax4,ax8]:\n",
    "    ax.set_xlabel('$\\mathrm{log_{10}(SFR \\,/\\, M_{\\odot} \\, yr^{-1})}$', size=11)\n",
    "    \n",
    "\n",
    "fig.text(0.02, 0.72, '$\\mathrm{\\sigma \\,/\\, M_{\\odot} \\; yr^{-1}}$', rotation=90, size=11)\n",
    "fig.text(0.85, 0.72, '$\\mathrm{\\sigma \\,/\\, M_{\\odot} \\; yr^{-1}}$', rotation=270, size=11)\n",
    "\n",
    "# fig.savefig('plots/spectra_errors_%s.png'%sim, dpi=250, bbox_inches='tight')"
   ]
  },
  {
   "cell_type": "code",
   "execution_count": null,
   "metadata": {},
   "outputs": [],
   "source": [
    "pcl.dump(experiment_err_fits, open('data/experiment_err_fits_%s.p'%sim,'wb'))\n",
    "\n",
    "[\"%.2f    %.2f   %.2f\"%(a[0],a[1],a[2]) for a in experiment_err_fits['dust']]"
   ]
  },
  {
   "cell_type": "markdown",
   "metadata": {},
   "source": [
    "## Residuals\n",
    "\n",
    "Fit to residuals of model to truth, to quantify 'model' error"
   ]
  },
  {
   "cell_type": "code",
   "execution_count": 21,
   "metadata": {},
   "outputs": [
    {
     "name": "stderr",
     "output_type": "stream",
     "text": [
      "/home/cl19abx/Learning_SFHs/venv/lib64/python3.6/site-packages/ipykernel_launcher.py:42: RuntimeWarning: divide by zero encountered in log10\n",
      "/home/cl19abx/Learning_SFHs/venv/lib64/python3.6/site-packages/ipykernel_launcher.py:46: MatplotlibDeprecationWarning: \n",
      "The 'normed' kwarg was deprecated in Matplotlib 2.1 and will be removed in 3.1. Use 'density' instead.\n",
      "/home/cl19abx/Learning_SFHs/venv/lib64/python3.6/site-packages/ipykernel_launcher.py:54: RuntimeWarning: divide by zero encountered in log10\n",
      "/home/cl19abx/Learning_SFHs/venv/lib64/python3.6/site-packages/ipykernel_launcher.py:58: MatplotlibDeprecationWarning: \n",
      "The 'normed' kwarg was deprecated in Matplotlib 2.1 and will be removed in 3.1. Use 'density' instead.\n"
     ]
    },
    {
     "data": {
      "text/plain": [
       "Text(0.93, 0.72, '$\\\\Delta \\\\;\\\\mathrm{SFR \\\\;/\\\\; M_{\\\\odot} \\\\; yr^{-1}}$')"
      ]
     },
     "execution_count": 21,
     "metadata": {},
     "output_type": "execute_result"
    },
    {
     "name": "stderr",
     "output_type": "stream",
     "text": [
      "findfont: Font family ['sans-serif'] not found. Falling back to DejaVu Sans.\n",
      "findfont: Font family ['sans-serif'] not found. Falling back to DejaVu Sans.\n"
     ]
    },
    {
     "data": {
      "image/png": "[encoded data removed]",
      "text/plain": [
       "<Figure size 720x720 with 16 Axes>"
      ]
     },
     "metadata": {
      "needs_background": "light"
     },
     "output_type": "display_data"
    }
   ],
   "source": [
    "fig = plt.figure(figsize=(10,10))#, dpi=100)\n",
    "\n",
    "gs = gridspec.GridSpec(8, 9, wspace=0., hspace=0.)\n",
    "\n",
    "ax1 = plt.subplot(gs[0, :3])\n",
    "ax1r = plt.subplot(gs[0, 3])\n",
    "\n",
    "ax2 = plt.subplot(gs[1, :3])\n",
    "ax2r = plt.subplot(gs[1, 3])\n",
    "\n",
    "ax3 = plt.subplot(gs[2, :3])\n",
    "ax3r = plt.subplot(gs[2, 3])\n",
    "\n",
    "ax4 = plt.subplot(gs[3, :3])\n",
    "ax4r = plt.subplot(gs[3, 3])\n",
    "\n",
    "ax5 = plt.subplot(gs[0, 5:8])\n",
    "ax5r = plt.subplot(gs[0, 8])\n",
    "\n",
    "ax6 = plt.subplot(gs[1, 5:8])\n",
    "ax6r = plt.subplot(gs[1, 8])\n",
    "\n",
    "ax7 = plt.subplot(gs[2, 5:8])\n",
    "ax7r = plt.subplot(gs[2, 8])\n",
    "\n",
    "ax8 = plt.subplot(gs[3, 5:8])\n",
    "ax8r = plt.subplot(gs[3, 8])\n",
    "\n",
    "axes = [ax1,ax2,ax3,ax4,ax5,ax6,ax7,ax8]\n",
    "axesr = [ax1r,ax2r,ax3r,ax4r,ax5r,ax6r,ax7r,ax8r]\n",
    "\n",
    "b=np.linspace(-5,5,100)\n",
    "\n",
    "# mu = np.array([None] * len(bins))\n",
    "# sigma = np.array([None] * len(bins))\n",
    "\n",
    "mu = {key: np.array([None] * predictors.shape[1], dtype=float) for key in ['dust','intrinsic']}\n",
    "sigma = {key: np.array([None] * predictors.shape[1], dtype=float) for key in ['dust','intrinsic']}\n",
    "\n",
    "for i, (ax, axr) in enumerate(zip(axes,axesr)):\n",
    "    \n",
    "    ax.scatter(np.log10(predictors[~si.train][:,i]), predictors[~si.train][:,i] - prediction['dust'][:,i], \n",
    "               s=5, color='C3', alpha=0.7)\n",
    "    \n",
    "    n, dumy, dummy = axr.hist(predictors[~si.train][:,i] - prediction['dust'][:,i], \n",
    "             histtype='step', bins=b, normed=True, orientation='horizontal', color='C3')\n",
    "    \n",
    "    mu['dust'][i], sigma['dust'][i] = norm.fit(predictors[~si.train][:,i] - prediction['dust'][:,i])\n",
    "    axr.text(0.15, 0.9, '$\\mu_{\\mathrm{dust}} = %.2f$'%mu['dust'][i], \n",
    "             transform=axr.transAxes, size=7, alpha=0.6)\n",
    "    axr.text(0.15, 0.15, '$\\sigma_{\\mathrm{dust}} = %.2f$'%sigma['dust'][i], \n",
    "             transform=axr.transAxes, size=7, alpha=0.6)\n",
    "    \n",
    "    ax.scatter(np.log10(predictors[~si.train][:,i]), predictors[~si.train][:,i] - prediction['intrinsic'][:,i], \n",
    "               s=3, color='C2', alpha=0.7)\n",
    "    \n",
    "    n, dumy, dummy = axr.hist(predictors[~si.train][:,i] - prediction['intrinsic'][:,i], \n",
    "             histtype='step', bins=b, normed=True, orientation='horizontal', color='C2')\n",
    "    \n",
    "    mu['intrinsic'][i], sigma['intrinsic'][i] = norm.fit(predictors[~si.train][:,i] - prediction['intrinsic'][:,i])\n",
    "    axr.text(0.15, 0.8, '$\\mu_{\\mathrm{intr}} = %.2f$'%mu['intrinsic'][i], \n",
    "             transform=axr.transAxes, size=7, alpha=0.6)\n",
    "    axr.text(0.15, 0.05, '$\\sigma_{\\mathrm{intr}} = %.2f$'%sigma['intrinsic'][i], \n",
    "             transform=axr.transAxes, size=7, alpha=0.6)\n",
    "\n",
    "    ax.hlines(0, 0, 100, linestyle='dotted')\n",
    "    \n",
    "    ax.set_xlim(0, 2.3)#predictors[~sp.train][:,i].max())\n",
    "    axr.set_xlim(0,n.max())\n",
    "    \n",
    "    ax.set_yticks([-10,-5,0,5,10])\n",
    "    axr.set_yticks([-2,0,2])\n",
    "    \n",
    "#     for a in [ax,axr]:\n",
    "    ax.set_ylim(-15,15)\n",
    "    axr.set_ylim(-4,4)\n",
    "        \n",
    "    if i not in [3,7]:\n",
    "        for a in [ax,axr]:\n",
    "            a.set_xticklabels([])\n",
    "    else:\n",
    "        axr.set_xticklabels([])\n",
    "    \n",
    "\n",
    "    ax.grid()    \n",
    "    axr.yaxis.tick_right()\n",
    "    axr.hlines(0, 0, 100, linestyle='dotted')\n",
    "    \n",
    "    ax.text(0.09, 10.5, \n",
    "            '$%.2f < \\mathrm{log(t_{L})} < %.2f$'%(np.log10(binLimits[i]*1e9), np.log10(binLimits[i+1]*1e9)), \n",
    "            alpha=0.6)\n",
    "    \n",
    "    \n",
    "for ax in [ax4,ax8]:\n",
    "    ax.set_xlabel('$\\mathrm{log_{10}(SFR \\,/\\, M_{\\odot} \\, yr^{-1})}$', size=11)\n",
    "    \n",
    "\n",
    "fig.text(0.06, 0.72, '$\\Delta \\;\\mathrm{SFR \\;/\\; M_{\\odot} \\; yr^{-1}}$', rotation=90, size=11)\n",
    "fig.text(0.93, 0.72, '$\\Delta \\;\\mathrm{SFR \\;/\\; M_{\\odot} \\; yr^{-1}}$', rotation=270, size=11)\n",
    "\n",
    "# fig.savefig('plots/residuals_by_mass_%s.png'%sim, dpi=200, bbox_inches='tight')"
   ]
  },
  {
   "cell_type": "markdown",
   "metadata": {},
   "source": [
    "Fractional residuals"
   ]
  },
  {
   "cell_type": "code",
   "execution_count": null,
   "metadata": {},
   "outputs": [
    {
     "name": "stderr",
     "output_type": "stream",
     "text": [
      "/home/cl19abx/Learning_SFHs/venv/lib64/python3.6/site-packages/ipykernel_launcher.py:46: RuntimeWarning: divide by zero encountered in log10\n",
      "/home/cl19abx/Learning_SFHs/venv/lib64/python3.6/site-packages/ipykernel_launcher.py:52: MatplotlibDeprecationWarning: \n",
      "The 'normed' kwarg was deprecated in Matplotlib 2.1 and will be removed in 3.1. Use 'density' instead.\n",
      "/home/cl19abx/Learning_SFHs/venv/lib64/python3.6/site-packages/ipykernel_launcher.py:71: MatplotlibDeprecationWarning: \n",
      "The 'normed' kwarg was deprecated in Matplotlib 2.1 and will be removed in 3.1. Use 'density' instead.\n"
     ]
    },
    {
     "data": {
      "text/plain": [
       "Text(0.94, 0.76, '$\\\\mathrm{(SFR_{true} - SFR_{pred}) \\\\;/\\\\; SFR_{pred}}$')"
      ]
     },
     "execution_count": 22,
     "metadata": {},
     "output_type": "execute_result"
    }
   ],
   "source": [
    "fig = plt.figure(figsize=(10,10))#, dpi=100)\n",
    "\n",
    "gs = gridspec.GridSpec(8, 9, wspace=0., hspace=0.)\n",
    "\n",
    "ax1 = plt.subplot(gs[0, :3])\n",
    "ax1r = plt.subplot(gs[0, 3])\n",
    "\n",
    "ax2 = plt.subplot(gs[1, :3])\n",
    "ax2r = plt.subplot(gs[1, 3])\n",
    "\n",
    "ax3 = plt.subplot(gs[2, :3])\n",
    "ax3r = plt.subplot(gs[2, 3])\n",
    "\n",
    "ax4 = plt.subplot(gs[3, :3])\n",
    "ax4r = plt.subplot(gs[3, 3])\n",
    "\n",
    "ax5 = plt.subplot(gs[0, 5:8])\n",
    "ax5r = plt.subplot(gs[0, 8])\n",
    "\n",
    "ax6 = plt.subplot(gs[1, 5:8])\n",
    "ax6r = plt.subplot(gs[1, 8])\n",
    "\n",
    "ax7 = plt.subplot(gs[2, 5:8])\n",
    "ax7r = plt.subplot(gs[2, 8])\n",
    "\n",
    "ax8 = plt.subplot(gs[3, 5:8])\n",
    "ax8r = plt.subplot(gs[3, 8])\n",
    "\n",
    "# ax9 = plt.subplot(gs[3, 5:8])\n",
    "# ax9r = plt.subplot(gs[3, 8])\n",
    "\n",
    "# ax10 = plt.subplot(gs[4, 5:8])\n",
    "# ax10r = plt.subplot(gs[4, 8])\n",
    "\n",
    "axes = [ax1,ax2,ax3,ax4,ax5,ax6,ax7,ax8]#,ax9,ax10]\n",
    "axesr = [ax1r,ax2r,ax3r,ax4r,ax5r,ax6r,ax7r,ax8r]#,ax9r,ax10r]\n",
    "\n",
    "b=np.linspace(-10,10,161)\n",
    "\n",
    "mu_model = {key: np.array([None] * predictors.shape[1], dtype=float) for key in ['dust','intrinsic']}\n",
    "sigma_1_model = {key: np.array([None] * predictors.shape[1], dtype=float) for key in ['dust','intrinsic']}\n",
    "sigma_2_model = {key: np.array([None] * predictors.shape[1], dtype=float) for key in ['dust','intrinsic']}\n",
    "\n",
    "for i, (ax, axr) in enumerate(zip(axes,axesr)):\n",
    "    \n",
    "    x = np.log10(predictors[~si.train][:,i])\n",
    "    y = (predictors[~si.train][:,i] - prediction['dust'][:,i]) / prediction['dust'][:,i]\n",
    "    \n",
    "    ax.scatter(x, y, s=5, color='C3', alpha=0.6)\n",
    "    \n",
    "    n, dumy, dummy = axr.hist(y, histtype='step', bins=b, normed=True, \n",
    "                              orientation='horizontal', color='C3')\n",
    "    \n",
    "#     mu['dust'][i], sigma['dust'][i] = \\\n",
    "#         norm.fit((predictors[~sp.train][:,i] - prediction['dust'][:,i]) / prediction['dust'][:,i])\n",
    "    \n",
    "    mu_model['dust'][i] = np.median(y) # , np.mean(y)\n",
    "    sigma_1_model['dust'][i] = (np.percentile(y, q=84) - np.percentile(y, q=16)) / 2\n",
    "    sigma_2_model['dust'][i] = (np.percentile(y, q=97.9) - np.percentile(y, q=2.1)) / 2\n",
    "    \n",
    "    axr.text(0.05, 0.9, '$\\mathrm{p_{50}}_{\\mathrm{dust}} = %.2f$'%mu_model['dust'][i], \n",
    "             transform=axr.transAxes, size=7, alpha=0.6)\n",
    "    axr.text(0.05, 0.15, '$\\sigma_{\\mathrm{dust}} = %.2f$'%sigma_1_model['dust'][i], \n",
    "             transform=axr.transAxes, size=7, alpha=0.6)\n",
    "    \n",
    "    y = (predictors[~si.train][:,i] - prediction['intrinsic'][:,i]) / prediction['intrinsic'][:,i]\n",
    "    \n",
    "    ax.scatter(x, y, s=3, color='C2', alpha=0.2)\n",
    "    \n",
    "    n, dumy, dummy = axr.hist(y, histtype='step', bins=b, normed=True, \n",
    "                              orientation='horizontal', color='C2')\n",
    "    \n",
    "#     mu['intrinsic'][i], sigma['intrinsic'][i] = \\\n",
    "#       norm.fit(predictors[~sp.train][:,i] - prediction['intrinsic'][:,i])\n",
    "\n",
    "    mu_model['intrinsic'][i] = np.median(y) # , np.mean(y)\n",
    "    sigma_1_model['intrinsic'][i] = (np.percentile(y, q=84) - np.percentile(y, q=16)) / 2\n",
    "    sigma_2_model['intrinsic'][i] = (np.percentile(y, q=97.9) - np.percentile(y, q=2.1)) / 2\n",
    "\n",
    "    axr.text(0.05, 0.8, '$\\mathrm{p_{50}}_{\\mathrm{intr}} = %.2f$'%mu_model['intrinsic'][i], \n",
    "             transform=axr.transAxes, size=7, alpha=0.6)\n",
    "    axr.text(0.05, 0.05, '$\\sigma_{\\mathrm{intr}} = %.2f$'%sigma_1_model['intrinsic'][i], \n",
    "             transform=axr.transAxes, size=7, alpha=0.6)\n",
    "\n",
    "    ax.hlines(0, 0, 100, linestyle='dotted')\n",
    "    \n",
    "    ax.set_xlim(0, 2.3)\n",
    "    axr.set_xlim(0,n.max())\n",
    "    \n",
    "#     ax.set_yticks([-5,0,5])\n",
    "#     axr.set_yticks([-5,0,5])\n",
    "    \n",
    "    ax.set_ylim(-4.9,4.9)\n",
    "    axr.set_ylim(-1.9,1.9)\n",
    "        \n",
    "    if i not in [3,7]:\n",
    "        for a in [ax,axr]:\n",
    "            a.set_xticklabels([])\n",
    "    else:\n",
    "        axr.set_xticklabels([])\n",
    "    \n",
    "\n",
    "    ax.grid()    \n",
    "    axr.yaxis.tick_right()\n",
    "#     axr.hlines(0, 0, 100, linestyle='dotted')\n",
    "    \n",
    "    ax.text(0.9, -4.3, \n",
    "            '$%.2f < \\mathrm{log(t_{L})} < %.2f$'%(np.log10(binLimits[i]*1e9), np.log10(binLimits[i+1]*1e9)), \n",
    "            alpha=0.7)\n",
    "    \n",
    "\n",
    "ax8.set_xlabel('$\\mathrm{log_{10}(SFR \\,/\\, M_{\\odot} \\, yr^{-1})}$', size=11)\n",
    "ax4.set_xlabel('$\\mathrm{log_{10}(SFR \\,/\\, M_{\\odot} \\, yr^{-1})}$', size=11)\n",
    "\n",
    "fig.text(0.06, 0.76, '$\\mathrm{(SFR_{true} - SFR_{pred}) \\;/\\; SFR_{pred}}$', \n",
    "         rotation=90, size=11)\n",
    "\n",
    "fig.text(0.94, 0.76, '$\\mathrm{(SFR_{true} - SFR_{pred}) \\;/\\; SFR_{pred}}$', \n",
    "         rotation=270, size=11)\n",
    "\n",
    "# fig.savefig('plots/fractional_residuals_by_mass_%s.png'%sim, dpi=200, bbox_inches='tight')"
   ]
  },
  {
   "cell_type": "code",
   "execution_count": null,
   "metadata": {},
   "outputs": [],
   "source": [
    "pcl.dump(sigma_1_model, open('data/sigma_1_model_%s.p'%sim,'wb'))\n",
    "\n",
    "[\"%.3f\\n\"%sig for sig in sigma_1_model['dust']]"
   ]
  },
  {
   "cell_type": "markdown",
   "metadata": {},
   "source": [
    "## Total Error"
   ]
  },
  {
   "cell_type": "code",
   "execution_count": null,
   "metadata": {},
   "outputs": [],
   "source": [
    "def total_error(sfh, experiment_err, model_err, key='intrinsic', fracs=False):\n",
    "    \"\"\"\n",
    "    quadrature sum of model + spectra error\n",
    "    \"\"\"\n",
    "    \n",
    "    sigma = [None] * len(sfh)\n",
    "    for i in np.arange(len(sfh)):\n",
    "        m2,m1,c = experiment_err[key][i]\n",
    "        sigma[i] = m2*np.log10(sfh[i])**2 + m1*np.log10(sfh[i]) + c\n",
    "    \n",
    "    sigma = np.array(sigma)\n",
    "    # print(sigma)\n",
    "    # print(sfh * model_err[key])\n",
    "    \n",
    "    tot_error = np.sqrt(sigma**2 + (sfh * model_err[key])**2)\n",
    "    \n",
    "    if fracs:\n",
    "        return tot_error, sigma, sfh * model_err[key]\n",
    "    else:\n",
    "        return tot_error\n"
   ]
  },
  {
   "cell_type": "markdown",
   "metadata": {},
   "source": [
    "## Evaluate Uncertainties"
   ]
  },
  {
   "cell_type": "code",
   "execution_count": null,
   "metadata": {},
   "outputs": [],
   "source": [
    "\n",
    "\n",
    "percentile = [si.evaluate_uncertainties(pred[:,i],predictors[~si.train][i]) \\\n",
    "              for i in range(np.sum(~si.train))]\n",
    "percentile = np.vstack(percentile)"
   ]
  },
  {
   "cell_type": "code",
   "execution_count": null,
   "metadata": {},
   "outputs": [],
   "source": [
    "[plt.hist(percentile[:,b], histtype='step') for b in range(8)];"
   ]
  },
  {
   "cell_type": "code",
   "execution_count": 3,
   "metadata": {},
   "outputs": [
    {
     "ename": "NameError",
     "evalue": "name 'np' is not defined",
     "output_type": "error",
     "traceback": [
      "\u001b[0;31m---------------------------------------------------------------------------\u001b[0m",
      "\u001b[0;31mNameError\u001b[0m                                 Traceback (most recent call last)",
      "\u001b[0;32m<ipython-input-3-0d66f5f409f1>\u001b[0m in \u001b[0;36m<module>\u001b[0;34m\u001b[0m\n\u001b[0;32m----> 1\u001b[0;31m \u001b[0mnp\u001b[0m\u001b[0;34m.\u001b[0m\u001b[0msum\u001b[0m\u001b[0;34m(\u001b[0m\u001b[0;34m(\u001b[0m\u001b[0mpercentile\u001b[0m \u001b[0;34m>\u001b[0m \u001b[0;36m0.16\u001b[0m\u001b[0;34m)\u001b[0m \u001b[0;34m&\u001b[0m \u001b[0;34m(\u001b[0m\u001b[0mpercentile\u001b[0m \u001b[0;34m<\u001b[0m \u001b[0;36m0.84\u001b[0m\u001b[0;34m)\u001b[0m\u001b[0;34m,\u001b[0m \u001b[0maxis\u001b[0m\u001b[0;34m=\u001b[0m\u001b[0;36m0\u001b[0m\u001b[0;34m)\u001b[0m \u001b[0;34m/\u001b[0m \u001b[0mpercentile\u001b[0m\u001b[0;34m.\u001b[0m\u001b[0mshape\u001b[0m\u001b[0;34m[\u001b[0m\u001b[0;36m0\u001b[0m\u001b[0;34m]\u001b[0m\u001b[0;34m\u001b[0m\u001b[0;34m\u001b[0m\u001b[0m\n\u001b[0m",
      "\u001b[0;31mNameError\u001b[0m: name 'np' is not defined"
     ]
    }
   ],
   "source": [
    "np.sum((percentile > 0.16) & (percentile < 0.84), axis=0) / percentile.shape[0]"
   ]
  },
  {
   "cell_type": "code",
   "execution_count": null,
   "metadata": {},
   "outputs": [],
   "source": []
  }
 ],
 "metadata": {
  "kernelspec": {
   "display_name": "Python 3",
   "language": "python",
   "name": "python3"
  },
  "language_info": {
   "codemirror_mode": {
    "name": "ipython",
    "version": 3
   },
   "file_extension": ".py",
   "mimetype": "text/x-python",
   "name": "python",
   "nbconvert_exporter": "python",
   "pygments_lexer": "ipython3",
   "version": "3.6.8"
  }
 },
 "nbformat": 4,
 "nbformat_minor": 2
}
