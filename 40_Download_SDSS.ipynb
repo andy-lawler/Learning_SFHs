{
 "cells": [
  {
   "cell_type": "markdown",
   "metadata": {},
   "source": [
    "# Download SDSS data\n",
    "\n",
    "This notebook performs a lot of things in order to download, prepare and select SDSS galaxies for applying the trained CNN models to.\n",
    "\n",
    "- import VESPA catalogue data in to a pandas dataframe\n",
    "- import MPA catalogue info in to a pandas dataframe\n",
    "- join the VESPA and MPA catalogues\n",
    "- performa load of corrections to magnitudes and derived properties\n",
    "- download SDSS spectra for each index in the dataframe"
   ]
  },
  {
   "cell_type": "code",
   "execution_count": 1,
   "metadata": {},
   "outputs": [
    {
     "name": "stderr",
     "output_type": "stream",
     "text": [
      "Using TensorFlow backend.\n"
     ]
    }
   ],
   "source": [
    "import pickle as pcl\n",
    "import os\n",
    "import sys\n",
    "\n",
    "import numpy as np\n",
    "import pandas as pd\n",
    "from astropy.io import fits\n",
    "\n",
    "from scipy.stats import binned_statistic_2d\n",
    "\n",
    "import astropy.units as u\n",
    "from astropy.cosmology import Planck13 as cosmo\n",
    "\n",
    "%matplotlib inline\n",
    "import matplotlib.pyplot as plt\n",
    "from matplotlib import rc\n",
    "rc('text', usetex=False)\n",
    "import matplotlib as mpl\n",
    "\n",
    "from predict import predict\n",
    "import extinction"
   ]
  },
  {
   "cell_type": "code",
   "execution_count": 2,
   "metadata": {},
   "outputs": [],
   "source": [
    "R_V = 3.2"
   ]
  },
  {
   "cell_type": "markdown",
   "metadata": {},
   "source": [
    "## VESPA\n",
    "\n",
    "Get VESPA data (see [here](http://www-wfau.roe.ac.uk/vespa/dbaccess.html)) and apply stellar mass correction (see [here](http://www-wfau.roe.ac.uk/vespa/FAQ.html))."
   ]
  },
  {
   "cell_type": "code",
   "execution_count": 5,
   "metadata": {},
   "outputs": [
    {
     "name": "stderr",
     "output_type": "stream",
     "text": [
      "/research/astro/highz/Students/Chris/Learning_SFHs/venv/lib/python3.6/site-packages/pandas/core/series.py:853: RuntimeWarning: invalid value encountered in log10\n",
      "  result = getattr(ufunc, method)(*inputs, **kwargs)\n",
      "/research/astro/highz/Students/Chris/Learning_SFHs/venv/lib/python3.6/site-packages/pandas/core/series.py:853: RuntimeWarning: divide by zero encountered in log10\n",
      "  result = getattr(ufunc, method)(*inputs, **kwargs)\n"
     ]
    }
   ],
   "source": [
    "binprop = pd.read_csv('data/VESPA/BinProp.csv')\n",
    "galprop = pd.read_csv('data/VESPA/GalProp.csv')\n",
    "dustprop = pd.read_csv('data/VESPA/DustProp.csv')\n",
    "hrbinprop = pd.read_csv('data/VESPA/HRBinProp.csv')\n",
    "\n",
    "binid = pd.read_csv('data/VESPA/binId.csv')\n",
    "lookup = pd.read_csv('data/VESPA/lookup.csv')\n",
    "\n",
    "galprop['M_stellar'] = 10**(np.log10(galprop['M_stellar']) - 0.14)\n",
    "hrbinprop['mass'] = 10**(np.log10(hrbinprop['mass']) - 0.14)"
   ]
  },
  {
   "cell_type": "markdown",
   "metadata": {},
   "source": [
    "Joins"
   ]
  },
  {
   "cell_type": "code",
   "execution_count": 6,
   "metadata": {
    "scrolled": true
   },
   "outputs": [],
   "source": [
    "vespa = pd.merge(left=hrbinprop, right=lookup, left_on='#index', right_on='indexP')\n",
    "vespa = pd.merge(left=vespa, right=galprop, left_on='#index', right_on='#index')\n",
    "vespa = pd.merge(left=vespa, right=binid, left_on='binID', right_on='binID')"
   ]
  },
  {
   "cell_type": "markdown",
   "metadata": {},
   "source": [
    "dust values"
   ]
  },
  {
   "cell_type": "code",
   "execution_count": 7,
   "metadata": {},
   "outputs": [],
   "source": [
    "vespa = pd.merge(left=vespa, right=dustprop[['#index','dustVal']][dustprop['dustID'] == 1], on='#index')\n",
    "vespa = vespa.rename(columns={'dustVal': 'dustVal_1'})\n",
    "\n",
    "vespa = pd.merge(left=vespa, right=dustprop[['#index','dustVal']][dustprop['dustID'] == 2], on='#index')\n",
    "vespa = vespa.rename(columns={'dustVal': 'dustVal_2'})"
   ]
  },
  {
   "cell_type": "markdown",
   "metadata": {},
   "source": [
    "convert bin mass to SFR"
   ]
  },
  {
   "cell_type": "code",
   "execution_count": 8,
   "metadata": {},
   "outputs": [],
   "source": [
    "vespa['sfr'] = vespa['mass'] / (vespa['width'] * 1e9)"
   ]
  },
  {
   "cell_type": "code",
   "execution_count": 9,
   "metadata": {},
   "outputs": [
    {
     "data": {
      "text/plain": [
       "Index(['#index', 'binID', 'runID_x', 'mass', 'mass_error', 'Z', 'Z_error',\n",
       "       'indexP', 'mjd', 'plate', 'fiberID', 'specobjid', 'runID_y',\n",
       "       'M_stellar', 'M_stellar_error', 't_LB', 'chi^2', 'SNR', 'Nbins',\n",
       "       'Npops', 'redshift', 'ageStart', 'ageEnd', 'width', 'widthBin',\n",
       "       'dustVal_1', 'dustVal_2', 'sfr'],\n",
       "      dtype='object')"
      ]
     },
     "execution_count": 9,
     "metadata": {},
     "output_type": "execute_result"
    }
   ],
   "source": [
    "vespa.columns"
   ]
  },
  {
   "cell_type": "markdown",
   "metadata": {},
   "source": [
    "## MPA-JHU\n",
    "\n",
    "get MPA-JHU tables on galaxy info (`gal_info`, see [here](https://wwwmpa.mpa-garching.mpg.de/SDSS/DR7/SDSS_info.html)), fibre and total masses, fibre SFRs, and $K$-corrected magnitudes (see [here](https://wwwmpa.mpa-garching.mpg.de/SDSS/DR7/) and [here](http://home.strw.leidenuniv.nl/~jarle/SDSS/))."
   ]
  },
  {
   "cell_type": "code",
   "execution_count": 11,
   "metadata": {},
   "outputs": [],
   "source": [
    "hdu_fibre_masses = fits.open('data/fiblgm_dr7_v5_2.fit')\n",
    "hdu_total_masses = fits.open('data/totlgm_dr7_v5_2.fit')\n",
    "\n",
    "hdu_metallicities = fits.open('data/gal_fiboh_dr7_v5_2.fits')\n",
    "\n",
    "hdu_kcorr = fits.open('data/gal_kcorrect_dr7_v5_2.fits')\n",
    "hdu_specmag = fits.open('data/gal_specmag_dr7_v5_2.fit')\n",
    "\n",
    "hdu_info = fits.open('data/gal_info_dr7_v5_2.fit') \n",
    "hdu_fibre_sfr = fits.open('data/gal_fibsfr_dr7_v5_2.fits')"
   ]
  },
  {
   "cell_type": "markdown",
   "metadata": {},
   "source": [
    "Use median values of mass, SFR, and lookup columns. Also load the absolute magnitudes as measured through the Petrosian aperture, raw from the fibre, and inferred from the SED model fitting."
   ]
  },
  {
   "cell_type": "code",
   "execution_count": 12,
   "metadata": {},
   "outputs": [],
   "source": [
    "# ids\n",
    "plateid = hdu_info[1].data.field('PLATEID')\n",
    "mjd = hdu_info[1].data.field('MJD')\n",
    "fiberid = hdu_info[1].data.field('FIBERID')\n",
    "\n",
    "# stellar masses and SFRs\n",
    "mass_fibre = hdu_fibre_masses[1].data.field('MEDIAN')  # median\n",
    "mass_total = hdu_total_masses[1].data.field('MEDIAN')  # median\n",
    "sfr = hdu_fibre_sfr[1].data.field('MEDIAN')\n",
    "\n",
    "# redshifts\n",
    "z = hdu_info[1].data['z']\n",
    "z_warn = hdu_info[1].data['z_warning']\n",
    "sn_median = hdu_info[1].data['sn_median']\n",
    "\n",
    "# galactic reddening\n",
    "E_BV_SFD = hdu_info[1].data.field('E_BV_SFD')\n",
    "\n",
    "## apparent magnitudes\n",
    "g_mag = hdu_info[1].data.field('spectro_mag')[:,0]\n",
    "r_mag = hdu_info[1].data.field('spectro_mag')[:,1]\n",
    "i_mag = hdu_info[1].data.field('spectro_mag')[:,2]\n",
    "\n",
    "g_mag_kcorr = hdu_info[1].data.field('kcor_mag')[:,0]\n",
    "r_mag_kcorr = hdu_info[1].data.field('kcor_mag')[:,1]\n",
    "i_mag_kcorr = hdu_info[1].data.field('kcor_mag')[:,2]\n",
    "\n",
    "g_mag_spec = hdu_specmag[1].data.field('SPECTRO_MAG')[:,0]\n",
    "r_mag_spec = hdu_specmag[1].data.field('SPECTRO_MAG')[:,1]\n",
    "i_mag_spec = hdu_specmag[1].data.field('SPECTRO_MAG')[:,2]\n",
    "\n",
    "# Absolute Magnitudes\n",
    "G_mag = hdu_kcorr[1].data.field('PETRO_ABSMAG')[:,1]\n",
    "R_mag = hdu_kcorr[1].data.field('PETRO_ABSMAG')[:,2]\n",
    "I_mag = hdu_kcorr[1].data.field('PETRO_ABSMAG')[:,3]\n",
    "Z_mag = hdu_kcorr[1].data.field('PETRO_ABSMAG')[:,4]\n",
    "\n",
    "G_mag_fib = hdu_kcorr[1].data.field('FIBER_ABSMAG')[:,1]\n",
    "R_mag_fib = hdu_kcorr[1].data.field('FIBER_ABSMAG')[:,2]\n",
    "I_mag_fib = hdu_kcorr[1].data.field('FIBER_ABSMAG')[:,3]\n",
    "Z_mag_fib = hdu_kcorr[1].data.field('FIBER_ABSMAG')[:,4]\n",
    "\n",
    "G_mag_mod = hdu_kcorr[1].data.field('MODEL_ABSMAG')[:,1]\n",
    "R_mag_mod = hdu_kcorr[1].data.field('MODEL_ABSMAG')[:,2]\n",
    "I_mag_mod = hdu_kcorr[1].data.field('MODEL_ABSMAG')[:,3]"
   ]
  },
  {
   "cell_type": "markdown",
   "metadata": {},
   "source": [
    "Create `mpa` dataframe"
   ]
  },
  {
   "cell_type": "code",
   "execution_count": 13,
   "metadata": {},
   "outputs": [],
   "source": [
    "mpa = pd.DataFrame(np.array([plateid,mjd,fiberid,E_BV_SFD,\n",
    "                             mass_fibre,mass_total,sfr,\n",
    "                             g_mag,r_mag,i_mag,\n",
    "                             g_mag_spec,r_mag_spec,i_mag_spec,\n",
    "                             g_mag_kcorr,r_mag_kcorr,i_mag_kcorr,\n",
    "                             G_mag,R_mag,I_mag,Z_mag,\n",
    "                             G_mag_fib,R_mag_fib,I_mag_fib,Z_mag_fib,\n",
    "                             G_mag_mod,R_mag_mod,I_mag_mod,\n",
    "                             z,z_warn,sn_median]).T,\n",
    "                   columns=['plateid','mjd','fiberid','E_BV_SFD',\n",
    "                            'mpa_mass','mpa_mass_total','mpa_sfr',\n",
    "                            'g_mag','r_mag','i_mag',\n",
    "                            'g_mag_spec','r_mag_spec','i_mag_spec',\n",
    "                            'g_mag_kcorr','r_mag_kcorr','i_mag_kcorr',\n",
    "                            'G_mag','R_mag','I_mag','Z_mag',\n",
    "                            'G_mag_fib','R_mag_fib','I_mag_fib','Z_mag_fib',\n",
    "                            'G_mag_mod','R_mag_mod','I_mag_mod',\n",
    "                            'z','z_warn','sn_median'])\n"
   ]
  },
  {
   "cell_type": "markdown",
   "metadata": {},
   "source": [
    "Join with VESPA catalogues"
   ]
  },
  {
   "cell_type": "code",
   "execution_count": 14,
   "metadata": {},
   "outputs": [],
   "source": [
    "mpa = pd.merge(left=lookup, right=mpa, left_on=['plate','mjd','fiberID'], \n",
    "                      right_on=['plateid','mjd','fiberid'], suffixes=('','_mpa'))"
   ]
  },
  {
   "cell_type": "code",
   "execution_count": 15,
   "metadata": {},
   "outputs": [],
   "source": [
    "mpa['#index'] = mpa['indexP']  # avoid creating lots of overlapping indexes\n",
    "\n",
    "mpa = pd.merge(left=mpa, right=galprop, left_on='#index', right_on='#index', copy=False)"
   ]
  },
  {
   "cell_type": "markdown",
   "metadata": {},
   "source": [
    "Correct Kroupa -> Chabrier IMF"
   ]
  },
  {
   "cell_type": "code",
   "execution_count": 16,
   "metadata": {},
   "outputs": [],
   "source": [
    "mpa['mpa_sfr'] -= 0.025\n",
    "mpa['mpa_mass'] -= 0.025\n",
    "mpa['mpa_mass_total'] -= 0.025"
   ]
  },
  {
   "cell_type": "code",
   "execution_count": 17,
   "metadata": {},
   "outputs": [],
   "source": [
    "mpa['luminosity_dist'] = cosmo.luminosity_distance(mpa['redshift']).to(u.pc).value\n",
    "mpa['DM'] = 5 * np.log10(mpa['luminosity_dist'] / 10)"
   ]
  },
  {
   "cell_type": "markdown",
   "metadata": {
    "collapsed": true
   },
   "source": [
    "Correct mass (already converted to SFR) from total back to fiber (see section 4.1 of Tojeiro+09, equation 22) using $z$-band magnitude"
   ]
  },
  {
   "cell_type": "code",
   "execution_count": 18,
   "metadata": {},
   "outputs": [],
   "source": [
    "mpa['mass_correction'] = 1 / 10**(0.4 * np.abs(mpa['Z_mag_fib'] - mpa['Z_mag']))"
   ]
  },
  {
   "cell_type": "markdown",
   "metadata": {},
   "source": [
    "Remove entries without a fiber magnitude measurement"
   ]
  },
  {
   "cell_type": "code",
   "execution_count": 19,
   "metadata": {},
   "outputs": [],
   "source": [
    "fib_mask = ~np.isnan(mpa['G_mag_fib']) & ~np.isnan(mpa['R_mag_fib'])\n",
    "mpa = mpa[fib_mask]"
   ]
  },
  {
   "cell_type": "markdown",
   "metadata": {},
   "source": [
    "Spectra correction, from mean of magnitude difference in *g,r* bands"
   ]
  },
  {
   "cell_type": "code",
   "execution_count": 20,
   "metadata": {},
   "outputs": [],
   "source": [
    "diff = np.mean([np.abs(mpa['G_mag'] - mpa['G_mag_fib']), np.abs(mpa['R_mag'] - mpa['R_mag_fib'])], axis=0)\n",
    "mpa['spectra_correction'] = 2.512**diff\n",
    "\n",
    "diff = mpa['G_mag_fib'] - mpa['G_mag']\n",
    "mpa['spectra_correction_G'] = 2.512**diff\n",
    "\n",
    "diff = mpa['R_mag_fib'] - mpa['R_mag']\n",
    "mpa['spectra_correction_R'] = 2.512**diff"
   ]
  },
  {
   "cell_type": "code",
   "execution_count": 21,
   "metadata": {},
   "outputs": [
    {
     "data": {
      "text/plain": [
       "4.019224634656688"
      ]
     },
     "execution_count": 21,
     "metadata": {},
     "output_type": "execute_result"
    }
   ],
   "source": [
    "np.median(mpa['spectra_correction'][(mpa['z'] < 0.11) & (mpa['z'] > 0.09)])"
   ]
  },
  {
   "cell_type": "code",
   "execution_count": 22,
   "metadata": {},
   "outputs": [
    {
     "data": {
      "text/plain": [
       "Text(0, 0.5, 'R correct')"
      ]
     },
     "execution_count": 22,
     "metadata": {},
     "output_type": "execute_result"
    },
    {
     "data": {
      "image/png": "[encoded data removed]",
      "text/plain": [
       "<Figure size 432x288 with 1 Axes>"
      ]
     },
     "metadata": {
      "needs_background": "light"
     },
     "output_type": "display_data"
    }
   ],
   "source": [
    "mask = (mpa['z'] < 0.11) & (mpa['z'] > 0.09)\n",
    "plt.scatter(mpa['spectra_correction_G'][mask], mpa['spectra_correction_R'][mask], s=1)\n",
    "plt.xlim(0,50)\n",
    "plt.ylim(0,50)\n",
    "plt.plot([0,50],[0,50],ls='dashed', color='black')\n",
    "plt.xlabel('G correct')\n",
    "plt.ylabel('R correct')"
   ]
  },
  {
   "cell_type": "code",
   "execution_count": 23,
   "metadata": {},
   "outputs": [],
   "source": [
    "pcl.dump(mpa, open('data/mpa_df.p','wb'))\n",
    "pcl.dump(vespa, open('data/vespa_df.p','wb'))\n",
    "# mpa = pcl.load(open('data/mpa_df.p','rb'))"
   ]
  },
  {
   "cell_type": "code",
   "execution_count": null,
   "metadata": {},
   "outputs": [],
   "source": []
  }
 ],
 "metadata": {
  "kernelspec": {
   "display_name": "Python 3",
   "language": "python",
   "name": "python3"
  },
  "language_info": {
   "codemirror_mode": {
    "name": "ipython",
    "version": 3
   },
   "file_extension": ".py",
   "mimetype": "text/x-python",
   "name": "python",
   "nbconvert_exporter": "python",
   "pygments_lexer": "ipython3",
   "version": "3.6.4"
  }
 },
 "nbformat": 4,
 "nbformat_minor": 2
}
