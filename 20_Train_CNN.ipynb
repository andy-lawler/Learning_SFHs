{
 "cells": [
  {
   "cell_type": "code",
   "execution_count": null,
   "id": "increasing-newport",
   "metadata": {},
   "outputs": [],
   "source": [
    "import os\n",
    "import numpy as np\n",
    "import pickle as pcl\n",
    "import matplotlib\n",
    "#matplotlib.use('agg')\n",
    "from matplotlib import pyplot as plt\n",
    "from IPython.display import clear_output\n",
    "import tensorflow as tf\n",
    "physical_devices = tf.config.experimental.list_physical_devices('GPU')\n",
    "assert len(physical_devices) > 0, \"Not enough GPU hardware devices available\"\n",
    "config = tf.config.experimental.set_memory_growth(physical_devices[0], True)\n",
    "\n",
    "from predict import predict"
   ]
  },
  {
   "cell_type": "code",
   "execution_count": null,
   "id": "equal-communications",
   "metadata": {},
   "outputs": [],
   "source": [
    "si = predict(fname='data/full_histories_illustris.h5')\n",
    "si.training_mask()"
   ]
  },
  {
   "cell_type": "code",
   "execution_count": null,
   "id": "novel-landing",
   "metadata": {},
   "outputs": [],
   "source": [
    "sn = 50\n",
    "predictors = si.load_arr('SFH/log_8')\n",
    "illustris_dust, wl = si.load_spectra('Dust')\n",
    "illustris_noise = np.random.normal(loc=0, scale=illustris_dust / sn)\n",
    "illustris_final_dust_noise = illustris_dust + illustris_noise\n",
    "si.generate_standardisation(key='Dust Noise SN50', spec=illustris_final_dust_noise)\n",
    "features = si.prepare_features(illustris_final_dust_noise, key='Dust Noise SN50', RNN=True)\n",
    "model,scores = si.create_rnn_model(features, predictors, batch_size=20, train=si.train)"
   ]
  },
  {
   "cell_type": "code",
   "execution_count": null,
   "id": "unique-superintendent",
   "metadata": {},
   "outputs": [],
   "source": [
    "f = 'data/rnn_trained_illustris_dust_noise50.h5'\n",
    "if os.path.isfile(f): os.remove(f)\n",
    "model.save(f)"
   ]
  }
 ],
 "metadata": {
  "kernelspec": {
   "display_name": "Python 3",
   "language": "python",
   "name": "python3"
  },
  "language_info": {
   "codemirror_mode": {
    "name": "ipython",
    "version": 3
   },
   "file_extension": ".py",
   "mimetype": "text/x-python",
   "name": "python",
   "nbconvert_exporter": "python",
   "pygments_lexer": "ipython3",
   "version": "3.8.5"
  }
 },
 "nbformat": 4,
 "nbformat_minor": 5
}
