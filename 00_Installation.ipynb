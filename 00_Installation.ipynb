{
 "cells": [
  {
   "cell_type": "markdown",
   "metadata": {},
   "source": [
    "## Installing and Configuring Tensorflow with Keras\n",
    "\n",
    "To train CNNs rapidly you need a GPU configured version of TensorFlow. This may be installed on your machine already if you are using a shared cluster. In this case, installing keras on top of \n",
    "\n",
    "https://docs.google.com/document/d/1jS1WL0olkAmxA-bshpjUrqbTD88Ag3Cc5lVtD1d4I6U/edit\n",
    "\n",
    "Please see this blog post (TODO) for instructions on how to do this!\n",
    "\n",
    "## Other Python Dependencies\n",
    "\n",
    "You need to `pip install` a few modules, depending on which functionality you wish to use. Below is a rough breakdown of the different dependencies:\n",
    "\n",
    "For plots:\n",
    "- matplotlib\n",
    "\n",
    "Download data requirements:\n",
    "- h5py\n",
    "- requests\n",
    "- numpy\n",
    "\n",
    "Generate spectra requirements:\n",
    "- schwimmbad\n",
    "- functools\n",
    "\n",
    "already satisfied in higher level requirements:\n",
    "- numpy\n",
    "- scipy\n",
    "\n"
   ]
  },
  {
   "cell_type": "code",
   "execution_count": null,
   "metadata": {},
   "outputs": [],
   "source": []
  }
 ],
 "metadata": {
  "kernelspec": {
   "display_name": "Python 3",
   "language": "python",
   "name": "python3"
  },
  "language_info": {
   "codemirror_mode": {
    "name": "ipython",
    "version": 3
   },
   "file_extension": ".py",
   "mimetype": "text/x-python",
   "name": "python",
   "nbconvert_exporter": "python",
   "pygments_lexer": "ipython3",
   "version": "3.6.4"
  }
 },
 "nbformat": 4,
 "nbformat_minor": 2
}
