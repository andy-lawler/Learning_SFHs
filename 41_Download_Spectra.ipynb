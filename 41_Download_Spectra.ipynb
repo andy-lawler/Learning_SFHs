{
 "cells": [
  {
   "cell_type": "markdown",
   "metadata": {},
   "source": [
    "# Download SDSS data\n",
    "\n",
    "\n",
    "- download SDSS spectra for each index in the `mpa` dataframe"
   ]
  },
  {
   "cell_type": "code",
   "execution_count": 44,
   "metadata": {},
   "outputs": [],
   "source": [
    "import pickle as pcl\n",
    "import os\n",
    "import sys\n",
    "\n",
    "import numpy as np\n",
    "import pandas as pd\n",
    "from astropy.io import fits\n",
    "\n",
    "from scipy.stats import binned_statistic_2d\n",
    "\n",
    "import astropy.units as u\n",
    "from astropy.cosmology import Planck13 as cosmo\n",
    "\n",
    "%matplotlib inline\n",
    "import matplotlib.pyplot as plt\n",
    "from matplotlib import rc\n",
    "rc('text', usetex=False)\n",
    "import matplotlib as mpl\n",
    "\n",
    "from predict import predict\n",
    "import extinction\n",
    "\n",
    "R_V = 3.2"
   ]
  },
  {
   "cell_type": "markdown",
   "metadata": {},
   "source": [
    "fetch mpa dataframe"
   ]
  },
  {
   "cell_type": "code",
   "execution_count": 45,
   "metadata": {},
   "outputs": [],
   "source": [
    "mpa = pcl.load(open('data/mpa_df.p','rb'))"
   ]
  },
  {
   "cell_type": "markdown",
   "metadata": {
    "collapsed": true
   },
   "source": [
    "## Fetch spectra from file"
   ]
  },
  {
   "cell_type": "code",
   "execution_count": 46,
   "metadata": {
    "scrolled": true
   },
   "outputs": [],
   "source": [
    "# redshift_arr = []\n",
    "# spec_arr = []\n",
    "# noise_arr = []\n",
    "# wavelength_arr = []\n",
    "# mpa_index_arr = []\n",
    "# filename_arr = []\n",
    "\n",
    "# direc='data/SDSSspec/'\n",
    "# for i,filename in enumerate(os.listdir(direc)):\n",
    "#     with fits.open(direc+filename) as hdu:\n",
    "        \n",
    "#         if i%1000 == 0: print(\"%.2f%%\"%(float(i)*100/len(os.listdir(direc))))\n",
    "        \n",
    "#         if hdu[0].header['Z_CONF'] < 0.95:\n",
    "#             continue\n",
    "            \n",
    "\n",
    "#         if hdu[0].header['FBADPIX'] > 0.1:\n",
    "#             continue\n",
    "            \n",
    "\n",
    "#         z = hdu[0].header['Z']\n",
    "#         print(z)\n",
    "#         spec = hdu[0].data[0]\n",
    "#         noise = hdu[0].data[2]\n",
    "#         mask = hdu[0].data[3]\n",
    "#         wavelength = 10 ** (hdu[0].header['COEFF0'] + hdu[0].header['COEFF1'] * np.arange(len(spec)))\n",
    "#         mask = np.in1d(mask, [0]) # emission lines: int(0x40000000)\n",
    "        \n",
    "#         if np.sum(mask) == 0.:\n",
    "#             continue\n",
    "            \n",
    "            \n",
    "#         index = mpa.loc[(mpa['plate'] == hdu[0].header['PLATEID']) &\\\n",
    "#                        (mpa['mjd'] == hdu[0].header['MJD']) &\\\n",
    "#                        (mpa['fiberid'] == hdu[0].header['FIBERID'])].index\n",
    "\n",
    "#         if len(index) > 0:\n",
    "#             filename_arr.append(filename)\n",
    "#             mpa_index_arr.append(index)\n",
    "#             wavelength_arr.append(wavelength[mask])\n",
    "#             spec_arr.append(spec[mask])\n",
    "#             noise_arr.append(noise[mask])\n",
    "#             redshift_arr.append(z)\n",
    "\n",
    "\n",
    "# nan_corrections = [i for i,item in enumerate(mpa_index_arr) \\\n",
    "#                    if item[0] in np.where(np.isnan(mpa['mass_correction']))[0]]\n",
    "\n",
    "# for n in nan_corrections:\n",
    "#     del mpa_index_arr[n]\n",
    "#     del wavelength_arr[n]\n",
    "#     del spec_arr[n]\n",
    "#     del noise_arr[n]\n",
    "#     del redshift_arr[n] \n",
    "\n",
    "# pcl.dump([mpa_index_arr, wavelength_arr, spec_arr, noise_arr, redshift_arr], \n",
    "#          open('data/spec_pickles.p','wb'))"
   ]
  },
  {
   "cell_type": "code",
   "execution_count": 47,
   "metadata": {},
   "outputs": [],
   "source": [
    "# mpa_index_arr, wavelength_arr, spec_arr, noise_arr, redshift_arr =\\\n",
    "#     pcl.load(open('data/spec_pickles.p','rb'))\n",
    "\n",
    "mpa_index_arr, wavelength_arr, spec_arr, noise_arr, redshift_arr =\\\n",
    "    pcl.load(open('data/spec_pickles_neb.p','rb'))"
   ]
  },
  {
   "cell_type": "markdown",
   "metadata": {},
   "source": [
    "Filter by wavelength"
   ]
  },
  {
   "cell_type": "code",
   "execution_count": 48,
   "metadata": {},
   "outputs": [
    {
     "name": "stdout",
     "output_type": "stream",
     "text": [
      "65884 73717\n"
     ]
    },
    {
     "data": {
      "text/plain": [
       "<matplotlib.collections.LineCollection at 0x2aab6d153160>"
      ]
     },
     "execution_count": 48,
     "metadata": {},
     "output_type": "execute_result"
    },
    {
     "data": {
      "image/png": "[encoded data removed]",
      "text/plain": [
       "<Figure size 432x288 with 1 Axes>"
      ]
     },
     "metadata": {
      "needs_background": "light"
     },
     "output_type": "display_data"
    }
   ],
   "source": [
    "new_wl = np.loadtxt('data/wavelength_grid.txt')\n",
    "w_min_val = np.min(new_wl)\n",
    "w_max_val = np.max(new_wl)\n",
    "\n",
    "w_min = np.array([w.min() / (1+z) for i, (w, z) in enumerate(zip(wavelength_arr, redshift_arr))])\n",
    "w_max = np.array([w.max() / (1+z) for i, (w, z) in enumerate(zip(wavelength_arr, redshift_arr))])\n",
    "\n",
    "wl_mask = (w_min < w_min_val) & (w_max > w_max_val)\n",
    "print(np.sum(wl_mask), len(wl_mask))\n",
    "\n",
    "plt.hist(w_min, bins=100, density=True);\n",
    "plt.vlines(w_min_val, 0, 0.01, linestyle='dashed')\n",
    "\n",
    "plt.hist(w_max, bins=100, density=True);\n",
    "plt.vlines(w_max_val, 0, 0.01, linestyle='dashed')"
   ]
  },
  {
   "cell_type": "code",
   "execution_count": 49,
   "metadata": {},
   "outputs": [],
   "source": [
    "mpa_index_arr = np.array(mpa_index_arr)[wl_mask]\n",
    "wavelength_arr = np.array(wavelength_arr)[wl_mask]\n",
    "spec_arr = np.array(spec_arr)[wl_mask]\n",
    "noise_arr = np.array(noise_arr)[wl_mask]\n",
    "redshift_arr = np.array(redshift_arr)[wl_mask]"
   ]
  },
  {
   "cell_type": "markdown",
   "metadata": {},
   "source": [
    "Get filters from sim instance"
   ]
  },
  {
   "cell_type": "code",
   "execution_count": 50,
   "metadata": {},
   "outputs": [],
   "source": [
    "from predict import predict\n",
    "si = predict(fname='data/full_histories_illustris.h5')\n",
    "\n",
    "f1 = si.filters['SDSS_g']\n",
    "f2 = si.filters['SDSS_r']"
   ]
  },
  {
   "cell_type": "code",
   "execution_count": 51,
   "metadata": {},
   "outputs": [
    {
     "data": {
      "text/plain": [
       "[<matplotlib.lines.Line2D at 0x2aab6de550f0>]"
      ]
     },
     "execution_count": 51,
     "metadata": {},
     "output_type": "execute_result"
    },
    {
     "data": {
      "image/png": "[encoded data removed]",
      "text/plain": [
       "<Figure size 432x288 with 1 Axes>"
      ]
     },
     "metadata": {
      "needs_background": "light"
     },
     "output_type": "display_data"
    }
   ],
   "source": [
    "i = 200\n",
    "s = spec_arr[i]\n",
    "wavelength = wavelength_arr[i]\n",
    "z = redshift_arr[i]\n",
    "\n",
    "plt.plot(wavelength, s, c='grey')\n",
    "\n",
    "scaling = np.max(s) * 2\n",
    "\n",
    "plt.vlines(w_min_val * (1+z), 0, scaling / 2, linestyle='dashed')\n",
    "plt.vlines(w_max_val * (1+z), 0, scaling / 2, linestyle='dashed')\n",
    "\n",
    "plt.plot(np.array(f1.wavelength), f1.transmit * scaling, c='g')\n",
    "plt.plot(np.array(f2.wavelength), f2.transmit * scaling, c='r')\n",
    "\n",
    "plt.plot(np.array(f1.wavelength) * (1+z), f1.transmit * scaling, ls='dashed', c='g')\n",
    "plt.plot(np.array(f2.wavelength) * (1+z), f2.transmit * scaling, ls='dashed', c='r')"
   ]
  },
  {
   "cell_type": "markdown",
   "metadata": {},
   "source": [
    "## Calculate colours"
   ]
  },
  {
   "cell_type": "code",
   "execution_count": 68,
   "metadata": {},
   "outputs": [],
   "source": [
    "def restframe_flux(spec, wl, z):\n",
    "    spec *= 1e-17  # erg s^-1 cm^-2 AA^-1\n",
    "    spec *= (cosmo.luminosity_distance(z).to(u.pc).value / 10)**2  # erg s^-1 cm^-2 AA^-1\n",
    "    spec /= (1+z)\n",
    "    \n",
    "    spec *= wl**2 / 2.9979e18  # erg s^-1 cm^-2 Hz^-1\n",
    "    spec /= (1+z)**2  # restframe wavelength\n",
    "    return spec\n",
    "\n",
    "\n",
    "M_g = np.array([None] * len(spec_arr), dtype=float)\n",
    "M_r = np.array([None] * len(spec_arr), dtype=float)\n",
    "\n",
    "for i in np.arange(len(spec_arr)):\n",
    "\n",
    "    s = spec_arr[i].copy()\n",
    "    s_error = noise_arr[i].copy()\n",
    "    z = redshift_arr[i]\n",
    "    wavelength = wavelength_arr[i].copy()\n",
    "    \n",
    "    A_V = mpa.loc[mpa_index_arr[i]]['E_BV_SFD'] * R_V\n",
    "    e = extinction.odonnell94(wavelength, A_V, R_V)\n",
    "#     e = extinction.calzetti00(wavelength, A_V, R_V)\n",
    "    trans = 10**(0.4 * e)\n",
    "\n",
    "    s *= trans\n",
    "    s *= mpa.loc[mpa_index_arr[i]]['spectra_correction']#.values\n",
    "    s = restframe_flux(s, wavelength, z)\n",
    "\n",
    "    # RESTFRAME filter\n",
    "    M_g[i] = si.photo(s, wavelength, f1.transmit, f1.wavelength * (1+z))[0]\n",
    "    M_r[i] = si.photo(s, wavelength, f2.transmit, f2.wavelength * (1+z))[0]\n"
   ]
  },
  {
   "cell_type": "code",
   "execution_count": 71,
   "metadata": {},
   "outputs": [],
   "source": [
    "M_mask = ~np.isnan(M_g) & ~np.isnan(M_r)\n",
    "\n",
    "mpa_index_arr = mpa_index_arr[M_mask]\n",
    "wavelength_arr = wavelength_arr[M_mask]\n",
    "spec_arr = spec_arr[M_mask]\n",
    "noise_arr = noise_arr[M_mask]\n",
    "redshift_arr = redshift_arr[M_mask]\n",
    "M_g = M_g[M_mask]\n",
    "M_r = M_r[M_mask]"
   ]
  },
  {
   "cell_type": "markdown",
   "metadata": {},
   "source": [
    "## Interpolate negative fluxes"
   ]
  },
  {
   "cell_type": "code",
   "execution_count": 72,
   "metadata": {},
   "outputs": [],
   "source": [
    "def interp_negative(spec, wl):\n",
    "    mask = spec < 0\n",
    "    vals = np.interp(wl[mask],\n",
    "                     wl[~mask],\n",
    "                     spec[~mask])\n",
    "    spec[mask] = vals\n",
    "    return spec\n",
    "\n",
    "\n",
    "interpd = [np.sum(s < 0) < 1 for s in spec_arr]\n",
    "\n",
    "for i, spec in enumerate(spec_arr):\n",
    "    spec_arr[i] = interp_negative(spec, wavelength_arr[i])"
   ]
  },
  {
   "cell_type": "code",
   "execution_count": 73,
   "metadata": {},
   "outputs": [],
   "source": [
    "pcl.dump([mpa_index_arr, wavelength_arr, spec_arr, noise_arr, redshift_arr, M_g, M_r], \n",
    "         open('data/spec_pickles_selection.p','wb'))"
   ]
  },
  {
   "cell_type": "code",
   "execution_count": null,
   "metadata": {},
   "outputs": [],
   "source": []
  }
 ],
 "metadata": {
  "kernelspec": {
   "display_name": "Python 3",
   "language": "python",
   "name": "python3"
  },
  "language_info": {
   "codemirror_mode": {
    "name": "ipython",
    "version": 3
   },
   "file_extension": ".py",
   "mimetype": "text/x-python",
   "name": "python",
   "nbconvert_exporter": "python",
   "pygments_lexer": "ipython3",
   "version": "3.6.4"
  }
 },
 "nbformat": 4,
 "nbformat_minor": 2
}
